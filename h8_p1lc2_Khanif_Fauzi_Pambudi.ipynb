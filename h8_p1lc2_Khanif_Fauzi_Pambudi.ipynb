{
  "nbformat": 4,
  "nbformat_minor": 0,
  "metadata": {
    "colab": {
      "name": "h8_p1lc2_Khanif_Fauzi_Pambudi.ipynb",
      "provenance": []
    },
    "kernelspec": {
      "name": "python3",
      "display_name": "Python 3"
    },
    "language_info": {
      "name": "python"
    }
  },
  "cells": [
    {
      "cell_type": "markdown",
      "metadata": {
        "id": "7KOJ-A8Trm4M"
      },
      "source": [
        "# **KHANIF FAUZI PAMBUDI (LIVE CODE 2 PHASE 1)**"
      ]
    },
    {
      "cell_type": "markdown",
      "metadata": {
        "id": "vhv586gPr0wd"
      },
      "source": [
        "# **PROBLEMS**"
      ]
    },
    {
      "cell_type": "markdown",
      "metadata": {
        "id": "ls7YyuZkr2dN"
      },
      "source": [
        "Menggunakan dataset https://www.kaggle.com/nareshbhat/health-care-data-set-on-heart-attack-possibility, buatlah model machine learning untuk mengklasifikasikan kemungkinan orang terkena serangan jantung. Bandingkan antara model Decision Tree dan Random Forest. Mana yang lebih baik untuk data ini?\n"
      ]
    },
    {
      "cell_type": "markdown",
      "metadata": {
        "id": "zausjoAZrvu1"
      },
      "source": [
        "# **IMPORT LIBRARY**"
      ]
    },
    {
      "cell_type": "code",
      "metadata": {
        "id": "yazLbPBWru2Z"
      },
      "source": [
        "import pandas as pd\n",
        "import numpy as np"
      ],
      "execution_count": 1,
      "outputs": []
    },
    {
      "cell_type": "markdown",
      "metadata": {
        "id": "z0TQ0Vo0seg-"
      },
      "source": [
        "# **DATA LOADING**"
      ]
    },
    {
      "cell_type": "code",
      "metadata": {
        "colab": {
          "base_uri": "https://localhost:8080/",
          "height": 419
        },
        "id": "ZipuSzg1shF6",
        "outputId": "3b3fddb2-35cb-40e6-c8a7-d098fc812bd2"
      },
      "source": [
        "df = pd.read_csv('heart.csv')\n",
        "df"
      ],
      "execution_count": 3,
      "outputs": [
        {
          "output_type": "execute_result",
          "data": {
            "text/html": [
              "<div>\n",
              "<style scoped>\n",
              "    .dataframe tbody tr th:only-of-type {\n",
              "        vertical-align: middle;\n",
              "    }\n",
              "\n",
              "    .dataframe tbody tr th {\n",
              "        vertical-align: top;\n",
              "    }\n",
              "\n",
              "    .dataframe thead th {\n",
              "        text-align: right;\n",
              "    }\n",
              "</style>\n",
              "<table border=\"1\" class=\"dataframe\">\n",
              "  <thead>\n",
              "    <tr style=\"text-align: right;\">\n",
              "      <th></th>\n",
              "      <th>age</th>\n",
              "      <th>sex</th>\n",
              "      <th>cp</th>\n",
              "      <th>trestbps</th>\n",
              "      <th>chol</th>\n",
              "      <th>fbs</th>\n",
              "      <th>restecg</th>\n",
              "      <th>thalach</th>\n",
              "      <th>exang</th>\n",
              "      <th>oldpeak</th>\n",
              "      <th>slope</th>\n",
              "      <th>ca</th>\n",
              "      <th>thal</th>\n",
              "      <th>target</th>\n",
              "    </tr>\n",
              "  </thead>\n",
              "  <tbody>\n",
              "    <tr>\n",
              "      <th>0</th>\n",
              "      <td>63</td>\n",
              "      <td>1</td>\n",
              "      <td>3</td>\n",
              "      <td>145</td>\n",
              "      <td>233</td>\n",
              "      <td>1</td>\n",
              "      <td>0</td>\n",
              "      <td>150</td>\n",
              "      <td>0</td>\n",
              "      <td>2.3</td>\n",
              "      <td>0</td>\n",
              "      <td>0</td>\n",
              "      <td>1</td>\n",
              "      <td>1</td>\n",
              "    </tr>\n",
              "    <tr>\n",
              "      <th>1</th>\n",
              "      <td>37</td>\n",
              "      <td>1</td>\n",
              "      <td>2</td>\n",
              "      <td>130</td>\n",
              "      <td>250</td>\n",
              "      <td>0</td>\n",
              "      <td>1</td>\n",
              "      <td>187</td>\n",
              "      <td>0</td>\n",
              "      <td>3.5</td>\n",
              "      <td>0</td>\n",
              "      <td>0</td>\n",
              "      <td>2</td>\n",
              "      <td>1</td>\n",
              "    </tr>\n",
              "    <tr>\n",
              "      <th>2</th>\n",
              "      <td>41</td>\n",
              "      <td>0</td>\n",
              "      <td>1</td>\n",
              "      <td>130</td>\n",
              "      <td>204</td>\n",
              "      <td>0</td>\n",
              "      <td>0</td>\n",
              "      <td>172</td>\n",
              "      <td>0</td>\n",
              "      <td>1.4</td>\n",
              "      <td>2</td>\n",
              "      <td>0</td>\n",
              "      <td>2</td>\n",
              "      <td>1</td>\n",
              "    </tr>\n",
              "    <tr>\n",
              "      <th>3</th>\n",
              "      <td>56</td>\n",
              "      <td>1</td>\n",
              "      <td>1</td>\n",
              "      <td>120</td>\n",
              "      <td>236</td>\n",
              "      <td>0</td>\n",
              "      <td>1</td>\n",
              "      <td>178</td>\n",
              "      <td>0</td>\n",
              "      <td>0.8</td>\n",
              "      <td>2</td>\n",
              "      <td>0</td>\n",
              "      <td>2</td>\n",
              "      <td>1</td>\n",
              "    </tr>\n",
              "    <tr>\n",
              "      <th>4</th>\n",
              "      <td>57</td>\n",
              "      <td>0</td>\n",
              "      <td>0</td>\n",
              "      <td>120</td>\n",
              "      <td>354</td>\n",
              "      <td>0</td>\n",
              "      <td>1</td>\n",
              "      <td>163</td>\n",
              "      <td>1</td>\n",
              "      <td>0.6</td>\n",
              "      <td>2</td>\n",
              "      <td>0</td>\n",
              "      <td>2</td>\n",
              "      <td>1</td>\n",
              "    </tr>\n",
              "    <tr>\n",
              "      <th>...</th>\n",
              "      <td>...</td>\n",
              "      <td>...</td>\n",
              "      <td>...</td>\n",
              "      <td>...</td>\n",
              "      <td>...</td>\n",
              "      <td>...</td>\n",
              "      <td>...</td>\n",
              "      <td>...</td>\n",
              "      <td>...</td>\n",
              "      <td>...</td>\n",
              "      <td>...</td>\n",
              "      <td>...</td>\n",
              "      <td>...</td>\n",
              "      <td>...</td>\n",
              "    </tr>\n",
              "    <tr>\n",
              "      <th>298</th>\n",
              "      <td>57</td>\n",
              "      <td>0</td>\n",
              "      <td>0</td>\n",
              "      <td>140</td>\n",
              "      <td>241</td>\n",
              "      <td>0</td>\n",
              "      <td>1</td>\n",
              "      <td>123</td>\n",
              "      <td>1</td>\n",
              "      <td>0.2</td>\n",
              "      <td>1</td>\n",
              "      <td>0</td>\n",
              "      <td>3</td>\n",
              "      <td>0</td>\n",
              "    </tr>\n",
              "    <tr>\n",
              "      <th>299</th>\n",
              "      <td>45</td>\n",
              "      <td>1</td>\n",
              "      <td>3</td>\n",
              "      <td>110</td>\n",
              "      <td>264</td>\n",
              "      <td>0</td>\n",
              "      <td>1</td>\n",
              "      <td>132</td>\n",
              "      <td>0</td>\n",
              "      <td>1.2</td>\n",
              "      <td>1</td>\n",
              "      <td>0</td>\n",
              "      <td>3</td>\n",
              "      <td>0</td>\n",
              "    </tr>\n",
              "    <tr>\n",
              "      <th>300</th>\n",
              "      <td>68</td>\n",
              "      <td>1</td>\n",
              "      <td>0</td>\n",
              "      <td>144</td>\n",
              "      <td>193</td>\n",
              "      <td>1</td>\n",
              "      <td>1</td>\n",
              "      <td>141</td>\n",
              "      <td>0</td>\n",
              "      <td>3.4</td>\n",
              "      <td>1</td>\n",
              "      <td>2</td>\n",
              "      <td>3</td>\n",
              "      <td>0</td>\n",
              "    </tr>\n",
              "    <tr>\n",
              "      <th>301</th>\n",
              "      <td>57</td>\n",
              "      <td>1</td>\n",
              "      <td>0</td>\n",
              "      <td>130</td>\n",
              "      <td>131</td>\n",
              "      <td>0</td>\n",
              "      <td>1</td>\n",
              "      <td>115</td>\n",
              "      <td>1</td>\n",
              "      <td>1.2</td>\n",
              "      <td>1</td>\n",
              "      <td>1</td>\n",
              "      <td>3</td>\n",
              "      <td>0</td>\n",
              "    </tr>\n",
              "    <tr>\n",
              "      <th>302</th>\n",
              "      <td>57</td>\n",
              "      <td>0</td>\n",
              "      <td>1</td>\n",
              "      <td>130</td>\n",
              "      <td>236</td>\n",
              "      <td>0</td>\n",
              "      <td>0</td>\n",
              "      <td>174</td>\n",
              "      <td>0</td>\n",
              "      <td>0.0</td>\n",
              "      <td>1</td>\n",
              "      <td>1</td>\n",
              "      <td>2</td>\n",
              "      <td>0</td>\n",
              "    </tr>\n",
              "  </tbody>\n",
              "</table>\n",
              "<p>303 rows × 14 columns</p>\n",
              "</div>"
            ],
            "text/plain": [
              "     age  sex  cp  trestbps  chol  fbs  ...  exang  oldpeak  slope  ca  thal  target\n",
              "0     63    1   3       145   233    1  ...      0      2.3      0   0     1       1\n",
              "1     37    1   2       130   250    0  ...      0      3.5      0   0     2       1\n",
              "2     41    0   1       130   204    0  ...      0      1.4      2   0     2       1\n",
              "3     56    1   1       120   236    0  ...      0      0.8      2   0     2       1\n",
              "4     57    0   0       120   354    0  ...      1      0.6      2   0     2       1\n",
              "..   ...  ...  ..       ...   ...  ...  ...    ...      ...    ...  ..   ...     ...\n",
              "298   57    0   0       140   241    0  ...      1      0.2      1   0     3       0\n",
              "299   45    1   3       110   264    0  ...      0      1.2      1   0     3       0\n",
              "300   68    1   0       144   193    1  ...      0      3.4      1   2     3       0\n",
              "301   57    1   0       130   131    0  ...      1      1.2      1   1     3       0\n",
              "302   57    0   1       130   236    0  ...      0      0.0      1   1     2       0\n",
              "\n",
              "[303 rows x 14 columns]"
            ]
          },
          "metadata": {
            "tags": []
          },
          "execution_count": 3
        }
      ]
    },
    {
      "cell_type": "code",
      "metadata": {
        "colab": {
          "base_uri": "https://localhost:8080/",
          "height": 204
        },
        "id": "XTDkLJAZstCY",
        "outputId": "025d5c1d-d27c-43bd-9949-f5eafced6360"
      },
      "source": [
        "df.head()"
      ],
      "execution_count": 4,
      "outputs": [
        {
          "output_type": "execute_result",
          "data": {
            "text/html": [
              "<div>\n",
              "<style scoped>\n",
              "    .dataframe tbody tr th:only-of-type {\n",
              "        vertical-align: middle;\n",
              "    }\n",
              "\n",
              "    .dataframe tbody tr th {\n",
              "        vertical-align: top;\n",
              "    }\n",
              "\n",
              "    .dataframe thead th {\n",
              "        text-align: right;\n",
              "    }\n",
              "</style>\n",
              "<table border=\"1\" class=\"dataframe\">\n",
              "  <thead>\n",
              "    <tr style=\"text-align: right;\">\n",
              "      <th></th>\n",
              "      <th>age</th>\n",
              "      <th>sex</th>\n",
              "      <th>cp</th>\n",
              "      <th>trestbps</th>\n",
              "      <th>chol</th>\n",
              "      <th>fbs</th>\n",
              "      <th>restecg</th>\n",
              "      <th>thalach</th>\n",
              "      <th>exang</th>\n",
              "      <th>oldpeak</th>\n",
              "      <th>slope</th>\n",
              "      <th>ca</th>\n",
              "      <th>thal</th>\n",
              "      <th>target</th>\n",
              "    </tr>\n",
              "  </thead>\n",
              "  <tbody>\n",
              "    <tr>\n",
              "      <th>0</th>\n",
              "      <td>63</td>\n",
              "      <td>1</td>\n",
              "      <td>3</td>\n",
              "      <td>145</td>\n",
              "      <td>233</td>\n",
              "      <td>1</td>\n",
              "      <td>0</td>\n",
              "      <td>150</td>\n",
              "      <td>0</td>\n",
              "      <td>2.3</td>\n",
              "      <td>0</td>\n",
              "      <td>0</td>\n",
              "      <td>1</td>\n",
              "      <td>1</td>\n",
              "    </tr>\n",
              "    <tr>\n",
              "      <th>1</th>\n",
              "      <td>37</td>\n",
              "      <td>1</td>\n",
              "      <td>2</td>\n",
              "      <td>130</td>\n",
              "      <td>250</td>\n",
              "      <td>0</td>\n",
              "      <td>1</td>\n",
              "      <td>187</td>\n",
              "      <td>0</td>\n",
              "      <td>3.5</td>\n",
              "      <td>0</td>\n",
              "      <td>0</td>\n",
              "      <td>2</td>\n",
              "      <td>1</td>\n",
              "    </tr>\n",
              "    <tr>\n",
              "      <th>2</th>\n",
              "      <td>41</td>\n",
              "      <td>0</td>\n",
              "      <td>1</td>\n",
              "      <td>130</td>\n",
              "      <td>204</td>\n",
              "      <td>0</td>\n",
              "      <td>0</td>\n",
              "      <td>172</td>\n",
              "      <td>0</td>\n",
              "      <td>1.4</td>\n",
              "      <td>2</td>\n",
              "      <td>0</td>\n",
              "      <td>2</td>\n",
              "      <td>1</td>\n",
              "    </tr>\n",
              "    <tr>\n",
              "      <th>3</th>\n",
              "      <td>56</td>\n",
              "      <td>1</td>\n",
              "      <td>1</td>\n",
              "      <td>120</td>\n",
              "      <td>236</td>\n",
              "      <td>0</td>\n",
              "      <td>1</td>\n",
              "      <td>178</td>\n",
              "      <td>0</td>\n",
              "      <td>0.8</td>\n",
              "      <td>2</td>\n",
              "      <td>0</td>\n",
              "      <td>2</td>\n",
              "      <td>1</td>\n",
              "    </tr>\n",
              "    <tr>\n",
              "      <th>4</th>\n",
              "      <td>57</td>\n",
              "      <td>0</td>\n",
              "      <td>0</td>\n",
              "      <td>120</td>\n",
              "      <td>354</td>\n",
              "      <td>0</td>\n",
              "      <td>1</td>\n",
              "      <td>163</td>\n",
              "      <td>1</td>\n",
              "      <td>0.6</td>\n",
              "      <td>2</td>\n",
              "      <td>0</td>\n",
              "      <td>2</td>\n",
              "      <td>1</td>\n",
              "    </tr>\n",
              "  </tbody>\n",
              "</table>\n",
              "</div>"
            ],
            "text/plain": [
              "   age  sex  cp  trestbps  chol  fbs  ...  exang  oldpeak  slope  ca  thal  target\n",
              "0   63    1   3       145   233    1  ...      0      2.3      0   0     1       1\n",
              "1   37    1   2       130   250    0  ...      0      3.5      0   0     2       1\n",
              "2   41    0   1       130   204    0  ...      0      1.4      2   0     2       1\n",
              "3   56    1   1       120   236    0  ...      0      0.8      2   0     2       1\n",
              "4   57    0   0       120   354    0  ...      1      0.6      2   0     2       1\n",
              "\n",
              "[5 rows x 14 columns]"
            ]
          },
          "metadata": {
            "tags": []
          },
          "execution_count": 4
        }
      ]
    },
    {
      "cell_type": "code",
      "metadata": {
        "colab": {
          "base_uri": "https://localhost:8080/",
          "height": 204
        },
        "id": "amCWyO68svx-",
        "outputId": "ea3cfa1f-8d66-4f83-cfff-0aabd63f08ab"
      },
      "source": [
        "df.tail()"
      ],
      "execution_count": 5,
      "outputs": [
        {
          "output_type": "execute_result",
          "data": {
            "text/html": [
              "<div>\n",
              "<style scoped>\n",
              "    .dataframe tbody tr th:only-of-type {\n",
              "        vertical-align: middle;\n",
              "    }\n",
              "\n",
              "    .dataframe tbody tr th {\n",
              "        vertical-align: top;\n",
              "    }\n",
              "\n",
              "    .dataframe thead th {\n",
              "        text-align: right;\n",
              "    }\n",
              "</style>\n",
              "<table border=\"1\" class=\"dataframe\">\n",
              "  <thead>\n",
              "    <tr style=\"text-align: right;\">\n",
              "      <th></th>\n",
              "      <th>age</th>\n",
              "      <th>sex</th>\n",
              "      <th>cp</th>\n",
              "      <th>trestbps</th>\n",
              "      <th>chol</th>\n",
              "      <th>fbs</th>\n",
              "      <th>restecg</th>\n",
              "      <th>thalach</th>\n",
              "      <th>exang</th>\n",
              "      <th>oldpeak</th>\n",
              "      <th>slope</th>\n",
              "      <th>ca</th>\n",
              "      <th>thal</th>\n",
              "      <th>target</th>\n",
              "    </tr>\n",
              "  </thead>\n",
              "  <tbody>\n",
              "    <tr>\n",
              "      <th>298</th>\n",
              "      <td>57</td>\n",
              "      <td>0</td>\n",
              "      <td>0</td>\n",
              "      <td>140</td>\n",
              "      <td>241</td>\n",
              "      <td>0</td>\n",
              "      <td>1</td>\n",
              "      <td>123</td>\n",
              "      <td>1</td>\n",
              "      <td>0.2</td>\n",
              "      <td>1</td>\n",
              "      <td>0</td>\n",
              "      <td>3</td>\n",
              "      <td>0</td>\n",
              "    </tr>\n",
              "    <tr>\n",
              "      <th>299</th>\n",
              "      <td>45</td>\n",
              "      <td>1</td>\n",
              "      <td>3</td>\n",
              "      <td>110</td>\n",
              "      <td>264</td>\n",
              "      <td>0</td>\n",
              "      <td>1</td>\n",
              "      <td>132</td>\n",
              "      <td>0</td>\n",
              "      <td>1.2</td>\n",
              "      <td>1</td>\n",
              "      <td>0</td>\n",
              "      <td>3</td>\n",
              "      <td>0</td>\n",
              "    </tr>\n",
              "    <tr>\n",
              "      <th>300</th>\n",
              "      <td>68</td>\n",
              "      <td>1</td>\n",
              "      <td>0</td>\n",
              "      <td>144</td>\n",
              "      <td>193</td>\n",
              "      <td>1</td>\n",
              "      <td>1</td>\n",
              "      <td>141</td>\n",
              "      <td>0</td>\n",
              "      <td>3.4</td>\n",
              "      <td>1</td>\n",
              "      <td>2</td>\n",
              "      <td>3</td>\n",
              "      <td>0</td>\n",
              "    </tr>\n",
              "    <tr>\n",
              "      <th>301</th>\n",
              "      <td>57</td>\n",
              "      <td>1</td>\n",
              "      <td>0</td>\n",
              "      <td>130</td>\n",
              "      <td>131</td>\n",
              "      <td>0</td>\n",
              "      <td>1</td>\n",
              "      <td>115</td>\n",
              "      <td>1</td>\n",
              "      <td>1.2</td>\n",
              "      <td>1</td>\n",
              "      <td>1</td>\n",
              "      <td>3</td>\n",
              "      <td>0</td>\n",
              "    </tr>\n",
              "    <tr>\n",
              "      <th>302</th>\n",
              "      <td>57</td>\n",
              "      <td>0</td>\n",
              "      <td>1</td>\n",
              "      <td>130</td>\n",
              "      <td>236</td>\n",
              "      <td>0</td>\n",
              "      <td>0</td>\n",
              "      <td>174</td>\n",
              "      <td>0</td>\n",
              "      <td>0.0</td>\n",
              "      <td>1</td>\n",
              "      <td>1</td>\n",
              "      <td>2</td>\n",
              "      <td>0</td>\n",
              "    </tr>\n",
              "  </tbody>\n",
              "</table>\n",
              "</div>"
            ],
            "text/plain": [
              "     age  sex  cp  trestbps  chol  fbs  ...  exang  oldpeak  slope  ca  thal  target\n",
              "298   57    0   0       140   241    0  ...      1      0.2      1   0     3       0\n",
              "299   45    1   3       110   264    0  ...      0      1.2      1   0     3       0\n",
              "300   68    1   0       144   193    1  ...      0      3.4      1   2     3       0\n",
              "301   57    1   0       130   131    0  ...      1      1.2      1   1     3       0\n",
              "302   57    0   1       130   236    0  ...      0      0.0      1   1     2       0\n",
              "\n",
              "[5 rows x 14 columns]"
            ]
          },
          "metadata": {
            "tags": []
          },
          "execution_count": 5
        }
      ]
    },
    {
      "cell_type": "markdown",
      "metadata": {
        "id": "ZAVZlUiBsyTP"
      },
      "source": [
        "# **DATA EXPLORATION**"
      ]
    },
    {
      "cell_type": "code",
      "metadata": {
        "colab": {
          "base_uri": "https://localhost:8080/"
        },
        "id": "S94juW_Ys0oh",
        "outputId": "143a1f42-54ca-4314-fdd0-b432b3b5b66d"
      },
      "source": [
        "len(df)"
      ],
      "execution_count": 6,
      "outputs": [
        {
          "output_type": "execute_result",
          "data": {
            "text/plain": [
              "303"
            ]
          },
          "metadata": {
            "tags": []
          },
          "execution_count": 6
        }
      ]
    },
    {
      "cell_type": "code",
      "metadata": {
        "colab": {
          "base_uri": "https://localhost:8080/"
        },
        "id": "toWmxqKVtNvk",
        "outputId": "b130706f-bfe1-4ea9-a4ed-4844d0ad04dc"
      },
      "source": [
        "df.shape"
      ],
      "execution_count": 7,
      "outputs": [
        {
          "output_type": "execute_result",
          "data": {
            "text/plain": [
              "(303, 14)"
            ]
          },
          "metadata": {
            "tags": []
          },
          "execution_count": 7
        }
      ]
    },
    {
      "cell_type": "code",
      "metadata": {
        "colab": {
          "base_uri": "https://localhost:8080/"
        },
        "id": "OXJ8_Jy0tSmh",
        "outputId": "d312108a-a093-4dbf-9f90-17681da4739f"
      },
      "source": [
        "df.info()"
      ],
      "execution_count": 8,
      "outputs": [
        {
          "output_type": "stream",
          "text": [
            "<class 'pandas.core.frame.DataFrame'>\n",
            "RangeIndex: 303 entries, 0 to 302\n",
            "Data columns (total 14 columns):\n",
            " #   Column    Non-Null Count  Dtype  \n",
            "---  ------    --------------  -----  \n",
            " 0   age       303 non-null    int64  \n",
            " 1   sex       303 non-null    int64  \n",
            " 2   cp        303 non-null    int64  \n",
            " 3   trestbps  303 non-null    int64  \n",
            " 4   chol      303 non-null    int64  \n",
            " 5   fbs       303 non-null    int64  \n",
            " 6   restecg   303 non-null    int64  \n",
            " 7   thalach   303 non-null    int64  \n",
            " 8   exang     303 non-null    int64  \n",
            " 9   oldpeak   303 non-null    float64\n",
            " 10  slope     303 non-null    int64  \n",
            " 11  ca        303 non-null    int64  \n",
            " 12  thal      303 non-null    int64  \n",
            " 13  target    303 non-null    int64  \n",
            "dtypes: float64(1), int64(13)\n",
            "memory usage: 33.3 KB\n"
          ],
          "name": "stdout"
        }
      ]
    },
    {
      "cell_type": "code",
      "metadata": {
        "colab": {
          "base_uri": "https://localhost:8080/",
          "height": 483
        },
        "id": "P9t4k9CMtUlP",
        "outputId": "52552dd4-64ee-4d2c-ca02-7d1001869e2d"
      },
      "source": [
        "df.describe().T"
      ],
      "execution_count": 9,
      "outputs": [
        {
          "output_type": "execute_result",
          "data": {
            "text/html": [
              "<div>\n",
              "<style scoped>\n",
              "    .dataframe tbody tr th:only-of-type {\n",
              "        vertical-align: middle;\n",
              "    }\n",
              "\n",
              "    .dataframe tbody tr th {\n",
              "        vertical-align: top;\n",
              "    }\n",
              "\n",
              "    .dataframe thead th {\n",
              "        text-align: right;\n",
              "    }\n",
              "</style>\n",
              "<table border=\"1\" class=\"dataframe\">\n",
              "  <thead>\n",
              "    <tr style=\"text-align: right;\">\n",
              "      <th></th>\n",
              "      <th>count</th>\n",
              "      <th>mean</th>\n",
              "      <th>std</th>\n",
              "      <th>min</th>\n",
              "      <th>25%</th>\n",
              "      <th>50%</th>\n",
              "      <th>75%</th>\n",
              "      <th>max</th>\n",
              "    </tr>\n",
              "  </thead>\n",
              "  <tbody>\n",
              "    <tr>\n",
              "      <th>age</th>\n",
              "      <td>303.0</td>\n",
              "      <td>54.366337</td>\n",
              "      <td>9.082101</td>\n",
              "      <td>29.0</td>\n",
              "      <td>47.5</td>\n",
              "      <td>55.0</td>\n",
              "      <td>61.0</td>\n",
              "      <td>77.0</td>\n",
              "    </tr>\n",
              "    <tr>\n",
              "      <th>sex</th>\n",
              "      <td>303.0</td>\n",
              "      <td>0.683168</td>\n",
              "      <td>0.466011</td>\n",
              "      <td>0.0</td>\n",
              "      <td>0.0</td>\n",
              "      <td>1.0</td>\n",
              "      <td>1.0</td>\n",
              "      <td>1.0</td>\n",
              "    </tr>\n",
              "    <tr>\n",
              "      <th>cp</th>\n",
              "      <td>303.0</td>\n",
              "      <td>0.966997</td>\n",
              "      <td>1.032052</td>\n",
              "      <td>0.0</td>\n",
              "      <td>0.0</td>\n",
              "      <td>1.0</td>\n",
              "      <td>2.0</td>\n",
              "      <td>3.0</td>\n",
              "    </tr>\n",
              "    <tr>\n",
              "      <th>trestbps</th>\n",
              "      <td>303.0</td>\n",
              "      <td>131.623762</td>\n",
              "      <td>17.538143</td>\n",
              "      <td>94.0</td>\n",
              "      <td>120.0</td>\n",
              "      <td>130.0</td>\n",
              "      <td>140.0</td>\n",
              "      <td>200.0</td>\n",
              "    </tr>\n",
              "    <tr>\n",
              "      <th>chol</th>\n",
              "      <td>303.0</td>\n",
              "      <td>246.264026</td>\n",
              "      <td>51.830751</td>\n",
              "      <td>126.0</td>\n",
              "      <td>211.0</td>\n",
              "      <td>240.0</td>\n",
              "      <td>274.5</td>\n",
              "      <td>564.0</td>\n",
              "    </tr>\n",
              "    <tr>\n",
              "      <th>fbs</th>\n",
              "      <td>303.0</td>\n",
              "      <td>0.148515</td>\n",
              "      <td>0.356198</td>\n",
              "      <td>0.0</td>\n",
              "      <td>0.0</td>\n",
              "      <td>0.0</td>\n",
              "      <td>0.0</td>\n",
              "      <td>1.0</td>\n",
              "    </tr>\n",
              "    <tr>\n",
              "      <th>restecg</th>\n",
              "      <td>303.0</td>\n",
              "      <td>0.528053</td>\n",
              "      <td>0.525860</td>\n",
              "      <td>0.0</td>\n",
              "      <td>0.0</td>\n",
              "      <td>1.0</td>\n",
              "      <td>1.0</td>\n",
              "      <td>2.0</td>\n",
              "    </tr>\n",
              "    <tr>\n",
              "      <th>thalach</th>\n",
              "      <td>303.0</td>\n",
              "      <td>149.646865</td>\n",
              "      <td>22.905161</td>\n",
              "      <td>71.0</td>\n",
              "      <td>133.5</td>\n",
              "      <td>153.0</td>\n",
              "      <td>166.0</td>\n",
              "      <td>202.0</td>\n",
              "    </tr>\n",
              "    <tr>\n",
              "      <th>exang</th>\n",
              "      <td>303.0</td>\n",
              "      <td>0.326733</td>\n",
              "      <td>0.469794</td>\n",
              "      <td>0.0</td>\n",
              "      <td>0.0</td>\n",
              "      <td>0.0</td>\n",
              "      <td>1.0</td>\n",
              "      <td>1.0</td>\n",
              "    </tr>\n",
              "    <tr>\n",
              "      <th>oldpeak</th>\n",
              "      <td>303.0</td>\n",
              "      <td>1.039604</td>\n",
              "      <td>1.161075</td>\n",
              "      <td>0.0</td>\n",
              "      <td>0.0</td>\n",
              "      <td>0.8</td>\n",
              "      <td>1.6</td>\n",
              "      <td>6.2</td>\n",
              "    </tr>\n",
              "    <tr>\n",
              "      <th>slope</th>\n",
              "      <td>303.0</td>\n",
              "      <td>1.399340</td>\n",
              "      <td>0.616226</td>\n",
              "      <td>0.0</td>\n",
              "      <td>1.0</td>\n",
              "      <td>1.0</td>\n",
              "      <td>2.0</td>\n",
              "      <td>2.0</td>\n",
              "    </tr>\n",
              "    <tr>\n",
              "      <th>ca</th>\n",
              "      <td>303.0</td>\n",
              "      <td>0.729373</td>\n",
              "      <td>1.022606</td>\n",
              "      <td>0.0</td>\n",
              "      <td>0.0</td>\n",
              "      <td>0.0</td>\n",
              "      <td>1.0</td>\n",
              "      <td>4.0</td>\n",
              "    </tr>\n",
              "    <tr>\n",
              "      <th>thal</th>\n",
              "      <td>303.0</td>\n",
              "      <td>2.313531</td>\n",
              "      <td>0.612277</td>\n",
              "      <td>0.0</td>\n",
              "      <td>2.0</td>\n",
              "      <td>2.0</td>\n",
              "      <td>3.0</td>\n",
              "      <td>3.0</td>\n",
              "    </tr>\n",
              "    <tr>\n",
              "      <th>target</th>\n",
              "      <td>303.0</td>\n",
              "      <td>0.544554</td>\n",
              "      <td>0.498835</td>\n",
              "      <td>0.0</td>\n",
              "      <td>0.0</td>\n",
              "      <td>1.0</td>\n",
              "      <td>1.0</td>\n",
              "      <td>1.0</td>\n",
              "    </tr>\n",
              "  </tbody>\n",
              "</table>\n",
              "</div>"
            ],
            "text/plain": [
              "          count        mean        std    min    25%    50%    75%    max\n",
              "age       303.0   54.366337   9.082101   29.0   47.5   55.0   61.0   77.0\n",
              "sex       303.0    0.683168   0.466011    0.0    0.0    1.0    1.0    1.0\n",
              "cp        303.0    0.966997   1.032052    0.0    0.0    1.0    2.0    3.0\n",
              "trestbps  303.0  131.623762  17.538143   94.0  120.0  130.0  140.0  200.0\n",
              "chol      303.0  246.264026  51.830751  126.0  211.0  240.0  274.5  564.0\n",
              "fbs       303.0    0.148515   0.356198    0.0    0.0    0.0    0.0    1.0\n",
              "restecg   303.0    0.528053   0.525860    0.0    0.0    1.0    1.0    2.0\n",
              "thalach   303.0  149.646865  22.905161   71.0  133.5  153.0  166.0  202.0\n",
              "exang     303.0    0.326733   0.469794    0.0    0.0    0.0    1.0    1.0\n",
              "oldpeak   303.0    1.039604   1.161075    0.0    0.0    0.8    1.6    6.2\n",
              "slope     303.0    1.399340   0.616226    0.0    1.0    1.0    2.0    2.0\n",
              "ca        303.0    0.729373   1.022606    0.0    0.0    0.0    1.0    4.0\n",
              "thal      303.0    2.313531   0.612277    0.0    2.0    2.0    3.0    3.0\n",
              "target    303.0    0.544554   0.498835    0.0    0.0    1.0    1.0    1.0"
            ]
          },
          "metadata": {
            "tags": []
          },
          "execution_count": 9
        }
      ]
    },
    {
      "cell_type": "code",
      "metadata": {
        "colab": {
          "base_uri": "https://localhost:8080/"
        },
        "id": "cMok9OvjtddF",
        "outputId": "54b5c89c-eacd-4dde-a2b0-079ae64d828e"
      },
      "source": [
        "nmbr_cols = list(df.select_dtypes(\"number\").columns)\n",
        "nmbr_cols"
      ],
      "execution_count": 10,
      "outputs": [
        {
          "output_type": "execute_result",
          "data": {
            "text/plain": [
              "['age',\n",
              " 'sex',\n",
              " 'cp',\n",
              " 'trestbps',\n",
              " 'chol',\n",
              " 'fbs',\n",
              " 'restecg',\n",
              " 'thalach',\n",
              " 'exang',\n",
              " 'oldpeak',\n",
              " 'slope',\n",
              " 'ca',\n",
              " 'thal',\n",
              " 'target']"
            ]
          },
          "metadata": {
            "tags": []
          },
          "execution_count": 10
        }
      ]
    },
    {
      "cell_type": "code",
      "metadata": {
        "colab": {
          "base_uri": "https://localhost:8080/",
          "height": 483
        },
        "id": "VItZDRFUtqTN",
        "outputId": "5d617e6d-3d93-493f-cbe8-d06ff3e4fb3a"
      },
      "source": [
        "df[nmbr_cols].describe().T"
      ],
      "execution_count": 11,
      "outputs": [
        {
          "output_type": "execute_result",
          "data": {
            "text/html": [
              "<div>\n",
              "<style scoped>\n",
              "    .dataframe tbody tr th:only-of-type {\n",
              "        vertical-align: middle;\n",
              "    }\n",
              "\n",
              "    .dataframe tbody tr th {\n",
              "        vertical-align: top;\n",
              "    }\n",
              "\n",
              "    .dataframe thead th {\n",
              "        text-align: right;\n",
              "    }\n",
              "</style>\n",
              "<table border=\"1\" class=\"dataframe\">\n",
              "  <thead>\n",
              "    <tr style=\"text-align: right;\">\n",
              "      <th></th>\n",
              "      <th>count</th>\n",
              "      <th>mean</th>\n",
              "      <th>std</th>\n",
              "      <th>min</th>\n",
              "      <th>25%</th>\n",
              "      <th>50%</th>\n",
              "      <th>75%</th>\n",
              "      <th>max</th>\n",
              "    </tr>\n",
              "  </thead>\n",
              "  <tbody>\n",
              "    <tr>\n",
              "      <th>age</th>\n",
              "      <td>303.0</td>\n",
              "      <td>54.366337</td>\n",
              "      <td>9.082101</td>\n",
              "      <td>29.0</td>\n",
              "      <td>47.5</td>\n",
              "      <td>55.0</td>\n",
              "      <td>61.0</td>\n",
              "      <td>77.0</td>\n",
              "    </tr>\n",
              "    <tr>\n",
              "      <th>sex</th>\n",
              "      <td>303.0</td>\n",
              "      <td>0.683168</td>\n",
              "      <td>0.466011</td>\n",
              "      <td>0.0</td>\n",
              "      <td>0.0</td>\n",
              "      <td>1.0</td>\n",
              "      <td>1.0</td>\n",
              "      <td>1.0</td>\n",
              "    </tr>\n",
              "    <tr>\n",
              "      <th>cp</th>\n",
              "      <td>303.0</td>\n",
              "      <td>0.966997</td>\n",
              "      <td>1.032052</td>\n",
              "      <td>0.0</td>\n",
              "      <td>0.0</td>\n",
              "      <td>1.0</td>\n",
              "      <td>2.0</td>\n",
              "      <td>3.0</td>\n",
              "    </tr>\n",
              "    <tr>\n",
              "      <th>trestbps</th>\n",
              "      <td>303.0</td>\n",
              "      <td>131.623762</td>\n",
              "      <td>17.538143</td>\n",
              "      <td>94.0</td>\n",
              "      <td>120.0</td>\n",
              "      <td>130.0</td>\n",
              "      <td>140.0</td>\n",
              "      <td>200.0</td>\n",
              "    </tr>\n",
              "    <tr>\n",
              "      <th>chol</th>\n",
              "      <td>303.0</td>\n",
              "      <td>246.264026</td>\n",
              "      <td>51.830751</td>\n",
              "      <td>126.0</td>\n",
              "      <td>211.0</td>\n",
              "      <td>240.0</td>\n",
              "      <td>274.5</td>\n",
              "      <td>564.0</td>\n",
              "    </tr>\n",
              "    <tr>\n",
              "      <th>fbs</th>\n",
              "      <td>303.0</td>\n",
              "      <td>0.148515</td>\n",
              "      <td>0.356198</td>\n",
              "      <td>0.0</td>\n",
              "      <td>0.0</td>\n",
              "      <td>0.0</td>\n",
              "      <td>0.0</td>\n",
              "      <td>1.0</td>\n",
              "    </tr>\n",
              "    <tr>\n",
              "      <th>restecg</th>\n",
              "      <td>303.0</td>\n",
              "      <td>0.528053</td>\n",
              "      <td>0.525860</td>\n",
              "      <td>0.0</td>\n",
              "      <td>0.0</td>\n",
              "      <td>1.0</td>\n",
              "      <td>1.0</td>\n",
              "      <td>2.0</td>\n",
              "    </tr>\n",
              "    <tr>\n",
              "      <th>thalach</th>\n",
              "      <td>303.0</td>\n",
              "      <td>149.646865</td>\n",
              "      <td>22.905161</td>\n",
              "      <td>71.0</td>\n",
              "      <td>133.5</td>\n",
              "      <td>153.0</td>\n",
              "      <td>166.0</td>\n",
              "      <td>202.0</td>\n",
              "    </tr>\n",
              "    <tr>\n",
              "      <th>exang</th>\n",
              "      <td>303.0</td>\n",
              "      <td>0.326733</td>\n",
              "      <td>0.469794</td>\n",
              "      <td>0.0</td>\n",
              "      <td>0.0</td>\n",
              "      <td>0.0</td>\n",
              "      <td>1.0</td>\n",
              "      <td>1.0</td>\n",
              "    </tr>\n",
              "    <tr>\n",
              "      <th>oldpeak</th>\n",
              "      <td>303.0</td>\n",
              "      <td>1.039604</td>\n",
              "      <td>1.161075</td>\n",
              "      <td>0.0</td>\n",
              "      <td>0.0</td>\n",
              "      <td>0.8</td>\n",
              "      <td>1.6</td>\n",
              "      <td>6.2</td>\n",
              "    </tr>\n",
              "    <tr>\n",
              "      <th>slope</th>\n",
              "      <td>303.0</td>\n",
              "      <td>1.399340</td>\n",
              "      <td>0.616226</td>\n",
              "      <td>0.0</td>\n",
              "      <td>1.0</td>\n",
              "      <td>1.0</td>\n",
              "      <td>2.0</td>\n",
              "      <td>2.0</td>\n",
              "    </tr>\n",
              "    <tr>\n",
              "      <th>ca</th>\n",
              "      <td>303.0</td>\n",
              "      <td>0.729373</td>\n",
              "      <td>1.022606</td>\n",
              "      <td>0.0</td>\n",
              "      <td>0.0</td>\n",
              "      <td>0.0</td>\n",
              "      <td>1.0</td>\n",
              "      <td>4.0</td>\n",
              "    </tr>\n",
              "    <tr>\n",
              "      <th>thal</th>\n",
              "      <td>303.0</td>\n",
              "      <td>2.313531</td>\n",
              "      <td>0.612277</td>\n",
              "      <td>0.0</td>\n",
              "      <td>2.0</td>\n",
              "      <td>2.0</td>\n",
              "      <td>3.0</td>\n",
              "      <td>3.0</td>\n",
              "    </tr>\n",
              "    <tr>\n",
              "      <th>target</th>\n",
              "      <td>303.0</td>\n",
              "      <td>0.544554</td>\n",
              "      <td>0.498835</td>\n",
              "      <td>0.0</td>\n",
              "      <td>0.0</td>\n",
              "      <td>1.0</td>\n",
              "      <td>1.0</td>\n",
              "      <td>1.0</td>\n",
              "    </tr>\n",
              "  </tbody>\n",
              "</table>\n",
              "</div>"
            ],
            "text/plain": [
              "          count        mean        std    min    25%    50%    75%    max\n",
              "age       303.0   54.366337   9.082101   29.0   47.5   55.0   61.0   77.0\n",
              "sex       303.0    0.683168   0.466011    0.0    0.0    1.0    1.0    1.0\n",
              "cp        303.0    0.966997   1.032052    0.0    0.0    1.0    2.0    3.0\n",
              "trestbps  303.0  131.623762  17.538143   94.0  120.0  130.0  140.0  200.0\n",
              "chol      303.0  246.264026  51.830751  126.0  211.0  240.0  274.5  564.0\n",
              "fbs       303.0    0.148515   0.356198    0.0    0.0    0.0    0.0    1.0\n",
              "restecg   303.0    0.528053   0.525860    0.0    0.0    1.0    1.0    2.0\n",
              "thalach   303.0  149.646865  22.905161   71.0  133.5  153.0  166.0  202.0\n",
              "exang     303.0    0.326733   0.469794    0.0    0.0    0.0    1.0    1.0\n",
              "oldpeak   303.0    1.039604   1.161075    0.0    0.0    0.8    1.6    6.2\n",
              "slope     303.0    1.399340   0.616226    0.0    1.0    1.0    2.0    2.0\n",
              "ca        303.0    0.729373   1.022606    0.0    0.0    0.0    1.0    4.0\n",
              "thal      303.0    2.313531   0.612277    0.0    2.0    2.0    3.0    3.0\n",
              "target    303.0    0.544554   0.498835    0.0    0.0    1.0    1.0    1.0"
            ]
          },
          "metadata": {
            "tags": []
          },
          "execution_count": 11
        }
      ]
    },
    {
      "cell_type": "code",
      "metadata": {
        "colab": {
          "base_uri": "https://localhost:8080/",
          "height": 80
        },
        "id": "jGA0MG0RtwvI",
        "outputId": "4fc4016f-eec1-4489-e19b-0c11e8705081"
      },
      "source": [
        "df[[\"target\"]].describe().T"
      ],
      "execution_count": 12,
      "outputs": [
        {
          "output_type": "execute_result",
          "data": {
            "text/html": [
              "<div>\n",
              "<style scoped>\n",
              "    .dataframe tbody tr th:only-of-type {\n",
              "        vertical-align: middle;\n",
              "    }\n",
              "\n",
              "    .dataframe tbody tr th {\n",
              "        vertical-align: top;\n",
              "    }\n",
              "\n",
              "    .dataframe thead th {\n",
              "        text-align: right;\n",
              "    }\n",
              "</style>\n",
              "<table border=\"1\" class=\"dataframe\">\n",
              "  <thead>\n",
              "    <tr style=\"text-align: right;\">\n",
              "      <th></th>\n",
              "      <th>count</th>\n",
              "      <th>mean</th>\n",
              "      <th>std</th>\n",
              "      <th>min</th>\n",
              "      <th>25%</th>\n",
              "      <th>50%</th>\n",
              "      <th>75%</th>\n",
              "      <th>max</th>\n",
              "    </tr>\n",
              "  </thead>\n",
              "  <tbody>\n",
              "    <tr>\n",
              "      <th>target</th>\n",
              "      <td>303.0</td>\n",
              "      <td>0.544554</td>\n",
              "      <td>0.498835</td>\n",
              "      <td>0.0</td>\n",
              "      <td>0.0</td>\n",
              "      <td>1.0</td>\n",
              "      <td>1.0</td>\n",
              "      <td>1.0</td>\n",
              "    </tr>\n",
              "  </tbody>\n",
              "</table>\n",
              "</div>"
            ],
            "text/plain": [
              "        count      mean       std  min  25%  50%  75%  max\n",
              "target  303.0  0.544554  0.498835  0.0  0.0  1.0  1.0  1.0"
            ]
          },
          "metadata": {
            "tags": []
          },
          "execution_count": 12
        }
      ]
    },
    {
      "cell_type": "markdown",
      "metadata": {
        "id": "yAoHdu4BuByZ"
      },
      "source": [
        "# **DATA CLEANING**"
      ]
    },
    {
      "cell_type": "markdown",
      "metadata": {
        "id": "jInz0y3ruEjn"
      },
      "source": [
        "Mengecek apakah terdapat missing value atau tidak"
      ]
    },
    {
      "cell_type": "code",
      "metadata": {
        "colab": {
          "base_uri": "https://localhost:8080/"
        },
        "id": "Gwfn_pL-uH2c",
        "outputId": "cd6253f8-2b32-4634-ce72-fabaa7b6563c"
      },
      "source": [
        "df.isnull().sum()"
      ],
      "execution_count": 13,
      "outputs": [
        {
          "output_type": "execute_result",
          "data": {
            "text/plain": [
              "age         0\n",
              "sex         0\n",
              "cp          0\n",
              "trestbps    0\n",
              "chol        0\n",
              "fbs         0\n",
              "restecg     0\n",
              "thalach     0\n",
              "exang       0\n",
              "oldpeak     0\n",
              "slope       0\n",
              "ca          0\n",
              "thal        0\n",
              "target      0\n",
              "dtype: int64"
            ]
          },
          "metadata": {
            "tags": []
          },
          "execution_count": 13
        }
      ]
    },
    {
      "cell_type": "markdown",
      "metadata": {
        "id": "NN7ejlzpuM6z"
      },
      "source": [
        "tidak terdapat missing value"
      ]
    },
    {
      "cell_type": "markdown",
      "metadata": {
        "id": "V9WOT8TXuSHz"
      },
      "source": [
        "Mengecek apakah ada duplicate rows atau tidak"
      ]
    },
    {
      "cell_type": "code",
      "metadata": {
        "colab": {
          "base_uri": "https://localhost:8080/"
        },
        "id": "7n0wbdBzuW5a",
        "outputId": "558614bb-71cf-4165-ed3c-e094643b4752"
      },
      "source": [
        "df.duplicated().any()"
      ],
      "execution_count": 14,
      "outputs": [
        {
          "output_type": "execute_result",
          "data": {
            "text/plain": [
              "True"
            ]
          },
          "metadata": {
            "tags": []
          },
          "execution_count": 14
        }
      ]
    },
    {
      "cell_type": "markdown",
      "metadata": {
        "id": "Pqck7azYukwG"
      },
      "source": [
        "# **EDA**"
      ]
    },
    {
      "cell_type": "code",
      "metadata": {
        "id": "xIhSnIdQuxZb"
      },
      "source": [
        "import matplotlib.pyplot as plt\n",
        "import seaborn as sns"
      ],
      "execution_count": 16,
      "outputs": []
    },
    {
      "cell_type": "code",
      "metadata": {
        "colab": {
          "base_uri": "https://localhost:8080/",
          "height": 960
        },
        "id": "mlmerKqfunP6",
        "outputId": "338f9474-2981-4445-f9a7-1b6ec152af06"
      },
      "source": [
        "#Melakukan plot untuk feature numerical\n",
        "plt.figure(figsize = (20, 20))\n",
        "for i in range(len(nmbr_cols)):\n",
        "    plt.subplot(len(nmbr_cols)//3+1, 3, i + 1)\n",
        "    plt.hist(df[nmbr_cols[i]])\n",
        "    plt.title(nmbr_cols[i], fontsize = 20)\n",
        "plt.tight_layout()\n",
        "plt.show()"
      ],
      "execution_count": 18,
      "outputs": [
        {
          "output_type": "display_data",
          "data": {
            "image/png": "[encoded data removed]",
            "text/plain": [
              "<Figure size 1440x1440 with 14 Axes>"
            ]
          },
          "metadata": {
            "tags": [],
            "needs_background": "light"
          }
        }
      ]
    },
    {
      "cell_type": "code",
      "metadata": {
        "colab": {
          "base_uri": "https://localhost:8080/",
          "height": 1000
        },
        "id": "h6Pd5keLCGBN",
        "outputId": "d475a455-2436-41c1-9a5d-83427182c1d6"
      },
      "source": [
        "for c in df.select_dtypes(include='object'):\n",
        "  df[c].value_counts(normalize=True).plot.bar(title=c)\n",
        "  plt.show()"
      ],
      "execution_count": 85,
      "outputs": [
        {
          "output_type": "display_data",
          "data": {
            "image/png": "[encoded data removed]",
            "text/plain": [
              "<Figure size 432x288 with 1 Axes>"
            ]
          },
          "metadata": {
            "tags": [],
            "needs_background": "light"
          }
        },
        {
          "output_type": "display_data",
          "data": {
            "image/png": "[encoded data removed]",
            "text/plain": [
              "<Figure size 432x288 with 1 Axes>"
            ]
          },
          "metadata": {
            "tags": [],
            "needs_background": "light"
          }
        },
        {
          "output_type": "display_data",
          "data": {
            "image/png": "[encoded data removed]",
            "text/plain": [
              "<Figure size 432x288 with 1 Axes>"
            ]
          },
          "metadata": {
            "tags": [],
            "needs_background": "light"
          }
        },
        {
          "output_type": "display_data",
          "data": {
            "image/png": "[encoded data removed]",
            "text/plain": [
              "<Figure size 432x288 with 1 Axes>"
            ]
          },
          "metadata": {
            "tags": [],
            "needs_background": "light"
          }
        },
        {
          "output_type": "display_data",
          "data": {
            "image/png": "[encoded data removed]",
            "text/plain": [
              "<Figure size 432x288 with 1 Axes>"
            ]
          },
          "metadata": {
            "tags": [],
            "needs_background": "light"
          }
        },
        {
          "output_type": "display_data",
          "data": {
            "image/png": "[encoded data removed]",
            "text/plain": [
              "<Figure size 432x288 with 1 Axes>"
            ]
          },
          "metadata": {
            "tags": [],
            "needs_background": "light"
          }
        },
        {
          "output_type": "display_data",
          "data": {
            "image/png": "[encoded data removed]",
            "text/plain": [
              "<Figure size 432x288 with 1 Axes>"
            ]
          },
          "metadata": {
            "tags": [],
            "needs_background": "light"
          }
        },
        {
          "output_type": "display_data",
          "data": {
            "image/png": "[encoded data removed]",
            "text/plain": [
              "<Figure size 432x288 with 1 Axes>"
            ]
          },
          "metadata": {
            "tags": [],
            "needs_background": "light"
          }
        },
        {
          "output_type": "display_data",
          "data": {
            "image/png": "[encoded data removed]",
            "text/plain": [
              "<Figure size 432x288 with 1 Axes>"
            ]
          },
          "metadata": {
            "tags": [],
            "needs_background": "light"
          }
        },
        {
          "output_type": "display_data",
          "data": {
            "image/png": "[encoded data removed]",
            "text/plain": [
              "<Figure size 432x288 with 1 Axes>"
            ]
          },
          "metadata": {
            "tags": [],
            "needs_background": "light"
          }
        },
        {
          "output_type": "display_data",
          "data": {
            "image/png": "[encoded data removed]",
            "text/plain": [
              "<Figure size 432x288 with 1 Axes>"
            ]
          },
          "metadata": {
            "tags": [],
            "needs_background": "light"
          }
        },
        {
          "output_type": "display_data",
          "data": {
            "image/png": "[encoded data removed]",
            "text/plain": [
              "<Figure size 432x288 with 1 Axes>"
            ]
          },
          "metadata": {
            "tags": [],
            "needs_background": "light"
          }
        },
        {
          "output_type": "display_data",
          "data": {
            "image/png": "[encoded data removed]",
            "text/plain": [
              "<Figure size 432x288 with 1 Axes>"
            ]
          },
          "metadata": {
            "tags": [],
            "needs_background": "light"
          }
        },
        {
          "output_type": "display_data",
          "data": {
            "image/png": "[encoded data removed]",
            "text/plain": [
              "<Figure size 432x288 with 1 Axes>"
            ]
          },
          "metadata": {
            "tags": [],
            "needs_background": "light"
          }
        }
      ]
    },
    {
      "cell_type": "code",
      "metadata": {
        "colab": {
          "base_uri": "https://localhost:8080/"
        },
        "id": "iD2LKIog-usl",
        "outputId": "d9a2e00f-35f3-4cf3-918e-dd606cb7621b"
      },
      "source": [
        "df['age'].unique()"
      ],
      "execution_count": 76,
      "outputs": [
        {
          "output_type": "execute_result",
          "data": {
            "text/plain": [
              "array(['age', '63', '37', '41', '56', '57', '44', '52', '54', '48', '49',\n",
              "       '64', '58', '50', '66', '43', '69', '59', '42', '61', '40', '71',\n",
              "       '51', '65', '53', '46', '45', '39', '47', '62', '34', '35', '29',\n",
              "       '55', '60', '67', '68', '74', '76', '70', '38', '77'], dtype=object)"
            ]
          },
          "metadata": {
            "tags": []
          },
          "execution_count": 76
        }
      ]
    },
    {
      "cell_type": "markdown",
      "metadata": {
        "id": "R3mKVn3OJl-8"
      },
      "source": [
        "dapat dilihat dari grafik normalisasi disimpulkan bahwa semakin tua usia semakin mempengaruhi target yes"
      ]
    },
    {
      "cell_type": "code",
      "metadata": {
        "colab": {
          "base_uri": "https://localhost:8080/"
        },
        "id": "ap9WPwWf-zhd",
        "outputId": "703e9499-297b-4613-94b4-7b23f28954bd"
      },
      "source": [
        "df['sex'].unique()"
      ],
      "execution_count": 77,
      "outputs": [
        {
          "output_type": "execute_result",
          "data": {
            "text/plain": [
              "array(['sex', '1', '0'], dtype=object)"
            ]
          },
          "metadata": {
            "tags": []
          },
          "execution_count": 77
        }
      ]
    },
    {
      "cell_type": "markdown",
      "metadata": {
        "id": "gT7AeaqmKDLY"
      },
      "source": [
        "dapat dilihat dari grafik normalisasi disimpulkan bahwa laki-laki cenderung memiliki target terkena serangan jantung"
      ]
    },
    {
      "cell_type": "code",
      "metadata": {
        "colab": {
          "base_uri": "https://localhost:8080/"
        },
        "id": "kQirKRzMIRsn",
        "outputId": "7ee16eb6-8ed1-4447-98e1-725a556bec17"
      },
      "source": [
        "df['cp'].unique()"
      ],
      "execution_count": 86,
      "outputs": [
        {
          "output_type": "execute_result",
          "data": {
            "text/plain": [
              "array(['cp', '3', '2', '1', '0'], dtype=object)"
            ]
          },
          "metadata": {
            "tags": []
          },
          "execution_count": 86
        }
      ]
    },
    {
      "cell_type": "markdown",
      "metadata": {
        "id": "0z_rANzVKeLp"
      },
      "source": [
        "dapat dilihat dari grafik normalisasi cp dengan nilai 0 atau typical angina memiliki kecenderungan untuk terkena serangan jantung"
      ]
    },
    {
      "cell_type": "code",
      "metadata": {
        "colab": {
          "base_uri": "https://localhost:8080/"
        },
        "id": "4QOn7S95Ig3z",
        "outputId": "5055d4f1-72b3-4b75-d366-4ab901a196c0"
      },
      "source": [
        "df['trestbps'].unique()"
      ],
      "execution_count": 87,
      "outputs": [
        {
          "output_type": "execute_result",
          "data": {
            "text/plain": [
              "array(['trestbps', '145', '130', '120', '140', '172', '150', '110', '135',\n",
              "       '160', '105', '125', '142', '155', '104', '138', '128', '108',\n",
              "       '134', '122', '115', '118', '100', '124', '94', '112', '102',\n",
              "       '152', '101', '132', '148', '178', '129', '180', '136', '126',\n",
              "       '106', '156', '170', '146', '117', '200', '165', '174', '192',\n",
              "       '144', '123', '154', '114', '164'], dtype=object)"
            ]
          },
          "metadata": {
            "tags": []
          },
          "execution_count": 87
        }
      ]
    },
    {
      "cell_type": "markdown",
      "metadata": {
        "id": "O8V_mjTFKtUE"
      },
      "source": [
        "dapat dilihat dari grafik normalisasi semakin tinggi tekanan darah semakin memiliki kecenderungan untuk terkena serangan jantung"
      ]
    },
    {
      "cell_type": "code",
      "metadata": {
        "colab": {
          "base_uri": "https://localhost:8080/"
        },
        "id": "RTghFkaFIpnE",
        "outputId": "b78ad1f8-9f82-4689-8bb0-4e699e56ba29"
      },
      "source": [
        "df['chol'].unique()"
      ],
      "execution_count": 88,
      "outputs": [
        {
          "output_type": "execute_result",
          "data": {
            "text/plain": [
              "array(['chol', '233', '250', '204', '236', '354', '192', '294', '263',\n",
              "       '199', '168', '239', '275', '266', '211', '283', '219', '340',\n",
              "       '226', '247', '234', '243', '302', '212', '175', '417', '197',\n",
              "       '198', '177', '273', '213', '304', '232', '269', '360', '308',\n",
              "       '245', '208', '264', '321', '325', '235', '257', '216', '256',\n",
              "       '231', '141', '252', '201', '222', '260', '182', '303', '265',\n",
              "       '309', '186', '203', '183', '220', '209', '258', '227', '261',\n",
              "       '221', '205', '240', '318', '298', '564', '277', '214', '248',\n",
              "       '255', '207', '223', '288', '160', '394', '315', '246', '244',\n",
              "       '270', '195', '196', '254', '126', '313', '262', '215', '193',\n",
              "       '271', '268', '267', '210', '295', '306', '178', '242', '180',\n",
              "       '228', '149', '278', '253', '342', '157', '286', '229', '284',\n",
              "       '224', '206', '167', '230', '335', '276', '353', '225', '330',\n",
              "       '290', '172', '305', '188', '282', '185', '326', '274', '164',\n",
              "       '307', '249', '341', '407', '217', '174', '281', '289', '322',\n",
              "       '299', '300', '293', '184', '409', '259', '200', '327', '237',\n",
              "       '218', '319', '166', '311', '169', '187', '176', '241', '131'],\n",
              "      dtype=object)"
            ]
          },
          "metadata": {
            "tags": []
          },
          "execution_count": 88
        }
      ]
    },
    {
      "cell_type": "markdown",
      "metadata": {
        "id": "7fSGWi4rK4Ks"
      },
      "source": [
        "dapat dilihat dari grafik normalisasi semakin tinggi angka cholesterol semakin memiliki kecenderungan untuk terkena serangan jantung"
      ]
    },
    {
      "cell_type": "code",
      "metadata": {
        "colab": {
          "base_uri": "https://localhost:8080/"
        },
        "id": "-8Ix6AZyI0vT",
        "outputId": "64231cfc-d27b-4756-c7c5-86a20c69dd13"
      },
      "source": [
        "df['fbs'].unique()"
      ],
      "execution_count": 90,
      "outputs": [
        {
          "output_type": "execute_result",
          "data": {
            "text/plain": [
              "array(['fbs', '1', '0'], dtype=object)"
            ]
          },
          "metadata": {
            "tags": []
          },
          "execution_count": 90
        }
      ]
    },
    {
      "cell_type": "markdown",
      "metadata": {
        "id": "K9UyuJy3Pp3n"
      },
      "source": [
        "dapat dilihat dari grafik normalisasi jika memiliki fasting blod sugar yang rendah (0 = false) maka akan semakin memiliki kecenderungan untuk memiliki penyakit jantung"
      ]
    },
    {
      "cell_type": "code",
      "metadata": {
        "colab": {
          "base_uri": "https://localhost:8080/"
        },
        "id": "Wl996JrlI6nq",
        "outputId": "964e9028-4f9e-49a3-a350-a1325d13aeac"
      },
      "source": [
        "df['restecg'].unique()"
      ],
      "execution_count": 91,
      "outputs": [
        {
          "output_type": "execute_result",
          "data": {
            "text/plain": [
              "array(['restecg', '0', '1', '2'], dtype=object)"
            ]
          },
          "metadata": {
            "tags": []
          },
          "execution_count": 91
        }
      ]
    },
    {
      "cell_type": "markdown",
      "metadata": {
        "id": "zpWg9TeSLdKq"
      },
      "source": [
        "dapat dilihat dari grafik normalisasi nilai restecg 0 dan 1 tidak terlalu terlihat dalam mempengaruhi hasil target karena memiliki nilai kemungkinan yang cukup tinggi untuk keduanya"
      ]
    },
    {
      "cell_type": "code",
      "metadata": {
        "colab": {
          "base_uri": "https://localhost:8080/"
        },
        "id": "itkkHWbDI9X4",
        "outputId": "4c094ab1-22f0-4c95-b80b-663bd393fef2"
      },
      "source": [
        "df['thalach'].unique()"
      ],
      "execution_count": 92,
      "outputs": [
        {
          "output_type": "execute_result",
          "data": {
            "text/plain": [
              "array(['thalach', '150', '187', '172', '178', '163', '148', '153', '173',\n",
              "       '162', '174', '160', '139', '171', '144', '158', '114', '151',\n",
              "       '161', '179', '137', '157', '123', '152', '168', '140', '188',\n",
              "       '125', '170', '165', '142', '180', '143', '182', '156', '115',\n",
              "       '149', '146', '175', '186', '185', '159', '130', '190', '132',\n",
              "       '147', '154', '202', '166', '164', '184', '122', '169', '138',\n",
              "       '111', '145', '194', '131', '133', '155', '167', '192', '121',\n",
              "       '96', '126', '105', '181', '116', '108', '129', '120', '112',\n",
              "       '128', '109', '113', '99', '177', '141', '136', '97', '127', '103',\n",
              "       '124', '88', '195', '106', '95', '117', '71', '118', '134', '90'],\n",
              "      dtype=object)"
            ]
          },
          "metadata": {
            "tags": []
          },
          "execution_count": 92
        }
      ]
    },
    {
      "cell_type": "markdown",
      "metadata": {
        "id": "pr1S0zkML1Ne"
      },
      "source": [
        "dapat dilihat dari grafik normalisasi jika nilai maksimum detak jantung atau thalach menghasilkan angka tinggi maka memiliki kecenderungan untuk terkena serangan jantung"
      ]
    },
    {
      "cell_type": "code",
      "metadata": {
        "colab": {
          "base_uri": "https://localhost:8080/"
        },
        "id": "jmkq3zkuI_9b",
        "outputId": "11c509f2-6805-46a5-cad3-37a50bc36eda"
      },
      "source": [
        "df['exang'].unique()"
      ],
      "execution_count": 93,
      "outputs": [
        {
          "output_type": "execute_result",
          "data": {
            "text/plain": [
              "array(['exang', '0', '1'], dtype=object)"
            ]
          },
          "metadata": {
            "tags": []
          },
          "execution_count": 93
        }
      ]
    },
    {
      "cell_type": "markdown",
      "metadata": {
        "id": "qwqZ-1pbMKE3"
      },
      "source": [
        "dapat dilihat dari grafik normalisasi jika tidak pernah melakukan exang atau excercise angina (yang bernilai 0) maka memiliki kecenderungan untuk terkena serangan jantung dibandingkan dengan yang melakukan excercise angina (yang bernilai 1)"
      ]
    },
    {
      "cell_type": "code",
      "metadata": {
        "colab": {
          "base_uri": "https://localhost:8080/"
        },
        "id": "ZFZkTfdpJCDy",
        "outputId": "364083f9-3ee1-40ba-dba7-afc78002e47d"
      },
      "source": [
        "df['oldpeak'].unique()"
      ],
      "execution_count": 94,
      "outputs": [
        {
          "output_type": "execute_result",
          "data": {
            "text/plain": [
              "array(['oldpeak', '2.3', '3.5', '1.4', '0.8', '0.6', '0.4', '1.3', '0',\n",
              "       '0.5', '1.6', '1.2', '0.2', '1.8', '1', '2.6', '1.5', '3', '2.4',\n",
              "       '0.1', '1.9', '4.2', '1.1', '2', '0.7', '0.3', '0.9', '3.6', '3.1',\n",
              "       '3.2', '2.5', '2.2', '2.8', '3.4', '6.2', '4', '5.6', '2.9', '2.1',\n",
              "       '3.8', '4.4'], dtype=object)"
            ]
          },
          "metadata": {
            "tags": []
          },
          "execution_count": 94
        }
      ]
    },
    {
      "cell_type": "markdown",
      "metadata": {
        "id": "UV3QZiy3NJ0H"
      },
      "source": [
        "dapat dilihat dari grafik normalisasi, semakin rendah oldpeak atau waktu induksi istirahat maka akan semakin rentan terkena serangan jantung"
      ]
    },
    {
      "cell_type": "code",
      "metadata": {
        "colab": {
          "base_uri": "https://localhost:8080/"
        },
        "id": "LRWECx0qJET-",
        "outputId": "95ed4097-23a5-40cb-904e-e7320b7aeb62"
      },
      "source": [
        "df['slope'].unique()"
      ],
      "execution_count": 95,
      "outputs": [
        {
          "output_type": "execute_result",
          "data": {
            "text/plain": [
              "array(['slope', '0', '2', '1'], dtype=object)"
            ]
          },
          "metadata": {
            "tags": []
          },
          "execution_count": 95
        }
      ]
    },
    {
      "cell_type": "markdown",
      "metadata": {
        "id": "njg26UhXNixV"
      },
      "source": [
        "dapat dilihat dari grafik normalisasi semakin miring slope dengan tingkay kemiringa tertinggi dengan value 2 maka akan semakin mempengaruhi hasil untuk terkena serangan jantung"
      ]
    },
    {
      "cell_type": "code",
      "metadata": {
        "colab": {
          "base_uri": "https://localhost:8080/"
        },
        "id": "SYy9mgOQJGYl",
        "outputId": "3f633466-be23-4206-81e2-2a6ea726d34e"
      },
      "source": [
        "df['ca'].unique()"
      ],
      "execution_count": 97,
      "outputs": [
        {
          "output_type": "execute_result",
          "data": {
            "text/plain": [
              "array(['ca', '0', '2', '1', '3', '4'], dtype=object)"
            ]
          },
          "metadata": {
            "tags": []
          },
          "execution_count": 97
        }
      ]
    },
    {
      "cell_type": "markdown",
      "metadata": {
        "id": "tj4rUJFoOay2"
      },
      "source": [
        "dapat dilihat dari grafik normalisasi semakin sedikit jumlah pembuluh utama semakin cenderung mengalami penyakit jantung"
      ]
    },
    {
      "cell_type": "code",
      "metadata": {
        "colab": {
          "base_uri": "https://localhost:8080/"
        },
        "id": "5EzwaVydJILW",
        "outputId": "23ab84b4-ed75-4393-9ea1-4c710652884c"
      },
      "source": [
        "df['thal'].unique()"
      ],
      "execution_count": 98,
      "outputs": [
        {
          "output_type": "execute_result",
          "data": {
            "text/plain": [
              "array(['thal', '1', '2', '3', '0'], dtype=object)"
            ]
          },
          "metadata": {
            "tags": []
          },
          "execution_count": 98
        }
      ]
    },
    {
      "cell_type": "markdown",
      "metadata": {
        "id": "LcyjL1sdPAQe"
      },
      "source": [
        "dapat dilihat dari grafik normalisasi jika thal memiliki pengaruh defect maka akan semakin cenderung mengalami penyakit jantung"
      ]
    },
    {
      "cell_type": "markdown",
      "metadata": {
        "id": "adOb0JzNDcmz"
      },
      "source": [
        "# **EDA ANALYSIS**"
      ]
    },
    {
      "cell_type": "markdown",
      "metadata": {
        "id": "qVX8ATedDjbN"
      },
      "source": [
        "Semua fitur pada dataset mempengaruhi hasil klasifikasi karena dari grafik yang dapat dilihat bahwa semua fitur memiliki kecenderungan dalam menghasilkan target karena terdapat value pada fitur-fitur tersebut yang menunjukan dominasi untuk dapat memprediksi target yang diinginkan"
      ]
    },
    {
      "cell_type": "markdown",
      "metadata": {
        "id": "PgfiEb7HvR2m"
      },
      "source": [
        "# **TARGET DATA**"
      ]
    },
    {
      "cell_type": "code",
      "metadata": {
        "colab": {
          "base_uri": "https://localhost:8080/",
          "height": 142
        },
        "id": "kzaRHOdQvUOU",
        "outputId": "a0a12663-541c-4dfd-dd6e-7d5ff8cf137f"
      },
      "source": [
        "df.groupby([\"target\"]).count()"
      ],
      "execution_count": 19,
      "outputs": [
        {
          "output_type": "execute_result",
          "data": {
            "text/html": [
              "<div>\n",
              "<style scoped>\n",
              "    .dataframe tbody tr th:only-of-type {\n",
              "        vertical-align: middle;\n",
              "    }\n",
              "\n",
              "    .dataframe tbody tr th {\n",
              "        vertical-align: top;\n",
              "    }\n",
              "\n",
              "    .dataframe thead th {\n",
              "        text-align: right;\n",
              "    }\n",
              "</style>\n",
              "<table border=\"1\" class=\"dataframe\">\n",
              "  <thead>\n",
              "    <tr style=\"text-align: right;\">\n",
              "      <th></th>\n",
              "      <th>age</th>\n",
              "      <th>sex</th>\n",
              "      <th>cp</th>\n",
              "      <th>trestbps</th>\n",
              "      <th>chol</th>\n",
              "      <th>fbs</th>\n",
              "      <th>restecg</th>\n",
              "      <th>thalach</th>\n",
              "      <th>exang</th>\n",
              "      <th>oldpeak</th>\n",
              "      <th>slope</th>\n",
              "      <th>ca</th>\n",
              "      <th>thal</th>\n",
              "    </tr>\n",
              "    <tr>\n",
              "      <th>target</th>\n",
              "      <th></th>\n",
              "      <th></th>\n",
              "      <th></th>\n",
              "      <th></th>\n",
              "      <th></th>\n",
              "      <th></th>\n",
              "      <th></th>\n",
              "      <th></th>\n",
              "      <th></th>\n",
              "      <th></th>\n",
              "      <th></th>\n",
              "      <th></th>\n",
              "      <th></th>\n",
              "    </tr>\n",
              "  </thead>\n",
              "  <tbody>\n",
              "    <tr>\n",
              "      <th>0</th>\n",
              "      <td>138</td>\n",
              "      <td>138</td>\n",
              "      <td>138</td>\n",
              "      <td>138</td>\n",
              "      <td>138</td>\n",
              "      <td>138</td>\n",
              "      <td>138</td>\n",
              "      <td>138</td>\n",
              "      <td>138</td>\n",
              "      <td>138</td>\n",
              "      <td>138</td>\n",
              "      <td>138</td>\n",
              "      <td>138</td>\n",
              "    </tr>\n",
              "    <tr>\n",
              "      <th>1</th>\n",
              "      <td>165</td>\n",
              "      <td>165</td>\n",
              "      <td>165</td>\n",
              "      <td>165</td>\n",
              "      <td>165</td>\n",
              "      <td>165</td>\n",
              "      <td>165</td>\n",
              "      <td>165</td>\n",
              "      <td>165</td>\n",
              "      <td>165</td>\n",
              "      <td>165</td>\n",
              "      <td>165</td>\n",
              "      <td>165</td>\n",
              "    </tr>\n",
              "  </tbody>\n",
              "</table>\n",
              "</div>"
            ],
            "text/plain": [
              "        age  sex   cp  trestbps  chol  ...  exang  oldpeak  slope   ca  thal\n",
              "target                                 ...                                  \n",
              "0       138  138  138       138   138  ...    138      138    138  138   138\n",
              "1       165  165  165       165   165  ...    165      165    165  165   165\n",
              "\n",
              "[2 rows x 13 columns]"
            ]
          },
          "metadata": {
            "tags": []
          },
          "execution_count": 19
        }
      ]
    },
    {
      "cell_type": "code",
      "metadata": {
        "colab": {
          "base_uri": "https://localhost:8080/",
          "height": 369
        },
        "id": "F2WUBTQWvgVP",
        "outputId": "e20ac6f3-75e1-4ca4-f73c-d4c977221485"
      },
      "source": [
        "plt.figure(figsize = (10, 5))\n",
        "sns.countplot(\n",
        "    x = df[\"target\"],\n",
        ")\n",
        "plt.title(\"Distribusi Target\")\n",
        "plt.tight_layout()\n",
        "plt.show()"
      ],
      "execution_count": 20,
      "outputs": [
        {
          "output_type": "display_data",
          "data": {
            "image/png": "[encoded data removed]",
            "text/plain": [
              "<Figure size 720x360 with 1 Axes>"
            ]
          },
          "metadata": {
            "tags": [],
            "needs_background": "light"
          }
        }
      ]
    },
    {
      "cell_type": "markdown",
      "metadata": {
        "id": "q6eYetZyv8Nv"
      },
      "source": [
        "# **DATA PREPROCESSING**"
      ]
    },
    {
      "cell_type": "code",
      "metadata": {
        "id": "VPydxw-0v-1S"
      },
      "source": [
        "new_df = df.copy()"
      ],
      "execution_count": 21,
      "outputs": []
    },
    {
      "cell_type": "code",
      "metadata": {
        "id": "WNgm_Vz2wI9K"
      },
      "source": [
        "new_df['target'] = new_df['target'].map({0:'No', 1:'Yes'})"
      ],
      "execution_count": 22,
      "outputs": []
    },
    {
      "cell_type": "markdown",
      "metadata": {
        "id": "zMHtkMA-x4k1"
      },
      "source": [
        "# **DECISION TREE**"
      ]
    },
    {
      "cell_type": "markdown",
      "metadata": {
        "id": "-Ro36vekyFIl"
      },
      "source": [
        "# **SPLIT DATA**"
      ]
    },
    {
      "cell_type": "code",
      "metadata": {
        "id": "82NVC56YyqjG"
      },
      "source": [
        "voting_data = df.copy()"
      ],
      "execution_count": 26,
      "outputs": []
    },
    {
      "cell_type": "code",
      "metadata": {
        "id": "bqWH9y6iyiTG"
      },
      "source": [
        "X = voting_data.drop(['target'], axis=1)\n",
        "\n",
        "y = voting_data['target']"
      ],
      "execution_count": 27,
      "outputs": []
    },
    {
      "cell_type": "code",
      "metadata": {
        "colab": {
          "base_uri": "https://localhost:8080/"
        },
        "id": "n0JdKwTbyayK",
        "outputId": "951f7b95-e2c1-425f-e0d4-003ff9fc8cb2"
      },
      "source": [
        "from sklearn.tree import DecisionTreeClassifier\n",
        "tree_clf = DecisionTreeClassifier(max_depth=4, random_state=42)\n",
        "tree_clf.fit(X, y)"
      ],
      "execution_count": 28,
      "outputs": [
        {
          "output_type": "execute_result",
          "data": {
            "text/plain": [
              "DecisionTreeClassifier(ccp_alpha=0.0, class_weight=None, criterion='gini',\n",
              "                       max_depth=4, max_features=None, max_leaf_nodes=None,\n",
              "                       min_impurity_decrease=0.0, min_impurity_split=None,\n",
              "                       min_samples_leaf=1, min_samples_split=2,\n",
              "                       min_weight_fraction_leaf=0.0, presort='deprecated',\n",
              "                       random_state=42, splitter='best')"
            ]
          },
          "metadata": {
            "tags": []
          },
          "execution_count": 28
        }
      ]
    },
    {
      "cell_type": "code",
      "metadata": {
        "id": "RxENAvswy_sh"
      },
      "source": [
        "# split X and y into training and testing sets\n",
        "from sklearn.model_selection import train_test_split\n",
        "\n",
        "X_train, X_test, y_train, y_test = train_test_split(X, y, test_size = 0.2, random_state = 54)"
      ],
      "execution_count": 31,
      "outputs": []
    },
    {
      "cell_type": "code",
      "metadata": {
        "colab": {
          "base_uri": "https://localhost:8080/"
        },
        "id": "qiR3TxFizHQe",
        "outputId": "4e16fc19-fbec-489e-f48b-ca337e0379b3"
      },
      "source": [
        "X_train.shape, X_test.shape"
      ],
      "execution_count": 32,
      "outputs": [
        {
          "output_type": "execute_result",
          "data": {
            "text/plain": [
              "((242, 13), (61, 13))"
            ]
          },
          "metadata": {
            "tags": []
          },
          "execution_count": 32
        }
      ]
    },
    {
      "cell_type": "code",
      "metadata": {
        "id": "vuh4QLJVx8ty"
      },
      "source": [
        "y_pred_train = tree_clf.predict(X_train)\n",
        "y_pred = tree_clf.predict(X_test)"
      ],
      "execution_count": 33,
      "outputs": []
    },
    {
      "cell_type": "markdown",
      "metadata": {
        "id": "OgzzCeu80yEQ"
      },
      "source": [
        "# **TRAIN**"
      ]
    },
    {
      "cell_type": "code",
      "metadata": {
        "colab": {
          "base_uri": "https://localhost:8080/"
        },
        "id": "KeTW1v9y0zaZ",
        "outputId": "a7206add-da78-4059-8c7a-a15b291f3ecf"
      },
      "source": [
        "y_pred_train = tree_clf.predict(X_train)\n",
        "y_pred_train"
      ],
      "execution_count": 41,
      "outputs": [
        {
          "output_type": "execute_result",
          "data": {
            "text/plain": [
              "array([1, 0, 1, 1, 0, 0, 1, 1, 0, 0, 0, 0, 1, 1, 0, 0, 1, 1, 0, 0, 1, 1,\n",
              "       1, 0, 0, 0, 0, 0, 1, 0, 1, 0, 0, 1, 0, 1, 1, 1, 1, 1, 0, 0, 1, 1,\n",
              "       0, 0, 1, 1, 0, 1, 0, 1, 0, 1, 0, 1, 0, 1, 1, 0, 1, 0, 0, 0, 0, 0,\n",
              "       0, 1, 1, 0, 1, 1, 1, 1, 1, 1, 0, 1, 0, 0, 1, 1, 1, 1, 1, 1, 1, 1,\n",
              "       0, 0, 0, 1, 1, 0, 0, 1, 1, 1, 1, 1, 1, 1, 1, 1, 0, 0, 1, 0, 0, 0,\n",
              "       0, 0, 1, 0, 1, 0, 1, 1, 1, 0, 1, 1, 1, 1, 0, 0, 1, 0, 1, 1, 0, 1,\n",
              "       1, 0, 1, 1, 1, 1, 0, 0, 1, 1, 0, 0, 0, 1, 0, 0, 1, 1, 1, 1, 1, 0,\n",
              "       0, 0, 0, 0, 0, 1, 1, 0, 0, 0, 0, 1, 0, 1, 0, 0, 1, 1, 1, 1, 1, 0,\n",
              "       1, 0, 1, 0, 1, 0, 0, 1, 0, 1, 1, 0, 0, 0, 1, 1, 1, 1, 1, 1, 0, 1,\n",
              "       0, 1, 0, 1, 1, 1, 1, 1, 1, 1, 0, 0, 1, 1, 1, 1, 1, 0, 1, 1, 1, 1,\n",
              "       1, 0, 1, 0, 0, 0, 1, 1, 0, 1, 1, 0, 0, 1, 1, 1, 1, 1, 0, 1, 1, 1])"
            ]
          },
          "metadata": {
            "tags": []
          },
          "execution_count": 41
        }
      ]
    },
    {
      "cell_type": "markdown",
      "metadata": {
        "id": "8kf98qwq05TH"
      },
      "source": [
        "# **TEST**"
      ]
    },
    {
      "cell_type": "code",
      "metadata": {
        "colab": {
          "base_uri": "https://localhost:8080/"
        },
        "id": "ghO-QNXW07NF",
        "outputId": "91e87583-dd0b-4f58-dd62-8a5741d4f6e6"
      },
      "source": [
        "y_pred = tree_clf.predict(X_test)\n",
        "y_pred"
      ],
      "execution_count": 43,
      "outputs": [
        {
          "output_type": "execute_result",
          "data": {
            "text/plain": [
              "array([1, 1, 1, 0, 0, 0, 0, 1, 0, 1, 1, 0, 0, 1, 1, 0, 0, 1, 0, 0, 1, 0,\n",
              "       1, 0, 0, 1, 0, 1, 1, 0, 0, 1, 1, 1, 1, 1, 0, 0, 1, 1, 1, 1, 0, 0,\n",
              "       1, 0, 1, 0, 1, 0, 0, 0, 1, 0, 1, 1, 1, 1, 1, 1, 1])"
            ]
          },
          "metadata": {
            "tags": []
          },
          "execution_count": 43
        }
      ]
    },
    {
      "cell_type": "markdown",
      "metadata": {
        "id": "pJyO1n1bzeiB"
      },
      "source": [
        "# **MODEL TRAIN**"
      ]
    },
    {
      "cell_type": "code",
      "metadata": {
        "colab": {
          "base_uri": "https://localhost:8080/"
        },
        "id": "cjaC_PYCzg4b",
        "outputId": "30c87288-e64f-4ca1-b4ca-e56a6da4973f"
      },
      "source": [
        "# MSE, MAE, R2, RMSE Method One\n",
        "from sklearn.metrics import mean_squared_error #MSE\n",
        "from sklearn.metrics import mean_absolute_error #MAE\n",
        "from sklearn.metrics import r2_score#R 2\n",
        " #transfer \n",
        "print('MSE:', mean_squared_error(y_train,y_pred_train))\n",
        "print('MAE:', mean_absolute_error(y_train,y_pred_train))\n",
        "print('RMSE:', np.sqrt(mean_squared_error(y_train,y_pred_train)))  # RMSE\n",
        "print('r2:', r2_score(y_test,y_pred))"
      ],
      "execution_count": 34,
      "outputs": [
        {
          "output_type": "stream",
          "text": [
            "MSE: 0.14049586776859505\n",
            "MAE: 0.14049586776859505\n",
            "RMSE: 0.37482778414706003\n",
            "r2: 0.605603448275862\n"
          ],
          "name": "stdout"
        }
      ]
    },
    {
      "cell_type": "markdown",
      "metadata": {
        "id": "_XJtCniGzosw"
      },
      "source": [
        "# **MODEL TEST**"
      ]
    },
    {
      "cell_type": "code",
      "metadata": {
        "colab": {
          "base_uri": "https://localhost:8080/"
        },
        "id": "D-lrNg_UzqmC",
        "outputId": "b76574a8-e0c7-4e12-a8c7-79977a912711"
      },
      "source": [
        "# MSE, MAE, R2, RMSE Method One\n",
        "from sklearn.metrics import mean_squared_error #MSE\n",
        "from sklearn.metrics import mean_absolute_error #MAE\n",
        "from sklearn.metrics import r2_score#R 2\n",
        " #transfer \n",
        "print('MSE:', mean_squared_error(y_test,y_pred))\n",
        "print('MAE:', mean_absolute_error(y_test,y_pred))\n",
        "print('RMSE:', np.sqrt(mean_squared_error(y_test,y_pred)))  # RMSE\n",
        "print('r2:', r2_score(y_test,y_pred))"
      ],
      "execution_count": 35,
      "outputs": [
        {
          "output_type": "stream",
          "text": [
            "MSE: 0.09836065573770492\n",
            "MAE: 0.09836065573770492\n",
            "RMSE: 0.31362502409359\n",
            "r2: 0.605603448275862\n"
          ],
          "name": "stdout"
        }
      ]
    },
    {
      "cell_type": "markdown",
      "metadata": {
        "id": "vCRgvBZfzwMK"
      },
      "source": [
        "# **MODEL SCORES (EVALUATION)**"
      ]
    },
    {
      "cell_type": "code",
      "metadata": {
        "colab": {
          "base_uri": "https://localhost:8080/"
        },
        "id": "GjAEODZ-zyBe",
        "outputId": "29a0d635-dc64-4a09-e17e-d4afc5360094"
      },
      "source": [
        "print('Training set score: {:.4f}'.format(tree_clf.score(X_train, y_train)))\n",
        "\n",
        "print('Test set score: {:.4f}'.format(tree_clf.score(X_test, y_test)))"
      ],
      "execution_count": 36,
      "outputs": [
        {
          "output_type": "stream",
          "text": [
            "Training set score: 0.8595\n",
            "Test set score: 0.9016\n"
          ],
          "name": "stdout"
        }
      ]
    },
    {
      "cell_type": "markdown",
      "metadata": {
        "id": "RQoeQgOYz539"
      },
      "source": [
        "# **TREE VISUALIZATION**"
      ]
    },
    {
      "cell_type": "code",
      "metadata": {
        "id": "HCrn_bvjz9_l"
      },
      "source": [
        "# Python ≥3.5 is required\n",
        "import sys\n",
        "assert sys.version_info >= (3, 5)\n",
        "\n",
        "# Scikit-Learn ≥0.20 is required\n",
        "import sklearn\n",
        "assert sklearn.__version__ >= \"0.20\"\n",
        "\n",
        "# Common imports\n",
        "import numpy as np\n",
        "import os\n",
        "\n",
        "# to make this notebook's output stable across runs\n",
        "np.random.seed(54)\n",
        "\n",
        "# To plot pretty figures\n",
        "%matplotlib inline\n",
        "import matplotlib as mpl\n",
        "import matplotlib.pyplot as plt\n",
        "mpl.rc('axes', labelsize=14)\n",
        "mpl.rc('xtick', labelsize=12)\n",
        "mpl.rc('ytick', labelsize=12)\n",
        "\n",
        "# Where to save the figures\n",
        "PROJECT_ROOT_DIR = \".\"\n",
        "CHAPTER_ID = \"decision_trees\"\n",
        "IMAGES_PATH = os.path.join(PROJECT_ROOT_DIR, \"images\", CHAPTER_ID)\n",
        "os.makedirs(IMAGES_PATH, exist_ok=True)\n",
        "\n",
        "def save_fig(fig_id, tight_layout=True, fig_extension=\"png\", resolution=300):\n",
        "    path = os.path.join(IMAGES_PATH, fig_id + \".\" + fig_extension)\n",
        "    print(\"Saving figure\", fig_id)\n",
        "    if tight_layout:\n",
        "        plt.tight_layout()\n",
        "    plt.savefig(path, format=fig_extension, dpi=resolution)"
      ],
      "execution_count": 37,
      "outputs": []
    },
    {
      "cell_type": "code",
      "metadata": {
        "colab": {
          "base_uri": "https://localhost:8080/"
        },
        "id": "hErptXu-0G89",
        "outputId": "01456c03-20c3-4ced-9b1a-3196ce421a07"
      },
      "source": [
        "df.columns[1:]"
      ],
      "execution_count": 38,
      "outputs": [
        {
          "output_type": "execute_result",
          "data": {
            "text/plain": [
              "Index(['sex', 'cp', 'trestbps', 'chol', 'fbs', 'restecg', 'thalach', 'exang',\n",
              "       'oldpeak', 'slope', 'ca', 'thal', 'target'],\n",
              "      dtype='object')"
            ]
          },
          "metadata": {
            "tags": []
          },
          "execution_count": 38
        }
      ]
    },
    {
      "cell_type": "code",
      "metadata": {
        "colab": {
          "base_uri": "https://localhost:8080/"
        },
        "id": "khWKkYLs0PvN",
        "outputId": "bc5e53ec-91ff-4c92-b2ca-236429d192ef"
      },
      "source": [
        "y_train"
      ],
      "execution_count": 39,
      "outputs": [
        {
          "output_type": "execute_result",
          "data": {
            "text/plain": [
              "18     1\n",
              "213    0\n",
              "69     1\n",
              "123    1\n",
              "246    0\n",
              "      ..\n",
              "17     1\n",
              "225    0\n",
              "23     1\n",
              "271    0\n",
              "111    1\n",
              "Name: target, Length: 242, dtype: int64"
            ]
          },
          "metadata": {
            "tags": []
          },
          "execution_count": 39
        }
      ]
    },
    {
      "cell_type": "code",
      "metadata": {
        "colab": {
          "base_uri": "https://localhost:8080/",
          "height": 777
        },
        "id": "QjhgyWOx0SN-",
        "outputId": "2cb27f8e-a960-41fb-ee6d-7938d36bf3d6"
      },
      "source": [
        "from graphviz import Source\n",
        "from sklearn.tree import export_graphviz\n",
        "\n",
        "export_graphviz(\n",
        "        tree_clf,\n",
        "        out_file=os.path.join(IMAGES_PATH, \"target.dot\"),\n",
        "        feature_names=X_train.columns, # kolom dari fitur  \n",
        "        class_names=new_df.target,  # dari target\n",
        "        filled=True,\n",
        "        rounded=True\n",
        "    )\n",
        "\n",
        "Source.from_file(os.path.join(IMAGES_PATH, \"target.dot\"))"
      ],
      "execution_count": 40,
      "outputs": [
        {
          "output_type": "execute_result",
          "data": {
            "text/plain": [
              "<graphviz.files.Source at 0x7f2bc66efad0>"
            ],
            "image/svg+xml": "<?xml version=\"1.0\" encoding=\"UTF-8\" standalone=\"no\"?>\n<!DOCTYPE svg PUBLIC \"-//W3C//DTD SVG 1.1//EN\"\n \"http://www.w3.org/Graphics/SVG/1.1/DTD/svg11.dtd\">\n<!-- Generated by graphviz version 2.40.1 (20161225.0304)\n -->\n<!-- Title: Tree Pages: 1 -->\n<svg width=\"1947pt\" height=\"552pt\"\n viewBox=\"0.00 0.00 1947.00 552.00\" xmlns=\"http://www.w3.org/2000/svg\" xmlns:xlink=\"http://www.w3.org/1999/xlink\">\n<g id=\"graph0\" class=\"graph\" transform=\"scale(1 1) rotate(0) translate(4 548)\">\n<title>Tree</title>\n<polygon fill=\"#ffffff\" stroke=\"transparent\" points=\"-4,4 -4,-548 1943,-548 1943,4 -4,4\"/>\n<!-- 0 -->\n<g id=\"node1\" class=\"node\">\n<title>0</title>\n<path fill=\"#dfeffb\" stroke=\"#000000\" d=\"M1014.5,-544C1014.5,-544 906.5,-544 906.5,-544 900.5,-544 894.5,-538 894.5,-532 894.5,-532 894.5,-473 894.5,-473 894.5,-467 900.5,-461 906.5,-461 906.5,-461 1014.5,-461 1014.5,-461 1020.5,-461 1026.5,-467 1026.5,-473 1026.5,-473 1026.5,-532 1026.5,-532 1026.5,-538 1020.5,-544 1014.5,-544\"/>\n<text text-anchor=\"middle\" x=\"960.5\" y=\"-528.8\" font-family=\"Helvetica,sans-Serif\" font-size=\"14.00\" fill=\"#000000\">cp &lt;= 0.5</text>\n<text text-anchor=\"middle\" x=\"960.5\" y=\"-513.8\" font-family=\"Helvetica,sans-Serif\" font-size=\"14.00\" fill=\"#000000\">gini = 0.496</text>\n<text text-anchor=\"middle\" x=\"960.5\" y=\"-498.8\" font-family=\"Helvetica,sans-Serif\" font-size=\"14.00\" fill=\"#000000\">samples = 303</text>\n<text text-anchor=\"middle\" x=\"960.5\" y=\"-483.8\" font-family=\"Helvetica,sans-Serif\" font-size=\"14.00\" fill=\"#000000\">value = [138, 165]</text>\n<text text-anchor=\"middle\" x=\"960.5\" y=\"-468.8\" font-family=\"Helvetica,sans-Serif\" font-size=\"14.00\" fill=\"#000000\">class = Yes</text>\n</g>\n<!-- 1 -->\n<g id=\"node2\" class=\"node\">\n<title>1</title>\n<path fill=\"#efb083\" stroke=\"#000000\" d=\"M772.5,-425C772.5,-425 672.5,-425 672.5,-425 666.5,-425 660.5,-419 660.5,-413 660.5,-413 660.5,-354 660.5,-354 660.5,-348 666.5,-342 672.5,-342 672.5,-342 772.5,-342 772.5,-342 778.5,-342 784.5,-348 784.5,-354 784.5,-354 784.5,-413 784.5,-413 784.5,-419 778.5,-425 772.5,-425\"/>\n<text text-anchor=\"middle\" x=\"722.5\" y=\"-409.8\" font-family=\"Helvetica,sans-Serif\" font-size=\"14.00\" fill=\"#000000\">ca &lt;= 0.5</text>\n<text text-anchor=\"middle\" x=\"722.5\" y=\"-394.8\" font-family=\"Helvetica,sans-Serif\" font-size=\"14.00\" fill=\"#000000\">gini = 0.397</text>\n<text text-anchor=\"middle\" x=\"722.5\" y=\"-379.8\" font-family=\"Helvetica,sans-Serif\" font-size=\"14.00\" fill=\"#000000\">samples = 143</text>\n<text text-anchor=\"middle\" x=\"722.5\" y=\"-364.8\" font-family=\"Helvetica,sans-Serif\" font-size=\"14.00\" fill=\"#000000\">value = [104, 39]</text>\n<text text-anchor=\"middle\" x=\"722.5\" y=\"-349.8\" font-family=\"Helvetica,sans-Serif\" font-size=\"14.00\" fill=\"#000000\">class = Yes</text>\n</g>\n<!-- 0&#45;&gt;1 -->\n<g id=\"edge1\" class=\"edge\">\n<title>0&#45;&gt;1</title>\n<path fill=\"none\" stroke=\"#000000\" d=\"M894.2037,-469.3519C863.0324,-453.7662 825.815,-435.1575 794.0111,-419.2556\"/>\n<polygon fill=\"#000000\" stroke=\"#000000\" points=\"795.2716,-415.9727 784.7621,-414.631 792.1411,-422.2337 795.2716,-415.9727\"/>\n<text text-anchor=\"middle\" x=\"792.6678\" y=\"-434.6481\" font-family=\"Helvetica,sans-Serif\" font-size=\"14.00\" fill=\"#000000\">True</text>\n</g>\n<!-- 16 -->\n<g id=\"node17\" class=\"node\">\n<title>16</title>\n<path fill=\"#6eb7ec\" stroke=\"#000000\" d=\"M1263.5,-425C1263.5,-425 1163.5,-425 1163.5,-425 1157.5,-425 1151.5,-419 1151.5,-413 1151.5,-413 1151.5,-354 1151.5,-354 1151.5,-348 1157.5,-342 1163.5,-342 1163.5,-342 1263.5,-342 1263.5,-342 1269.5,-342 1275.5,-348 1275.5,-354 1275.5,-354 1275.5,-413 1275.5,-413 1275.5,-419 1269.5,-425 1263.5,-425\"/>\n<text text-anchor=\"middle\" x=\"1213.5\" y=\"-409.8\" font-family=\"Helvetica,sans-Serif\" font-size=\"14.00\" fill=\"#000000\">thal &lt;= 2.5</text>\n<text text-anchor=\"middle\" x=\"1213.5\" y=\"-394.8\" font-family=\"Helvetica,sans-Serif\" font-size=\"14.00\" fill=\"#000000\">gini = 0.335</text>\n<text text-anchor=\"middle\" x=\"1213.5\" y=\"-379.8\" font-family=\"Helvetica,sans-Serif\" font-size=\"14.00\" fill=\"#000000\">samples = 160</text>\n<text text-anchor=\"middle\" x=\"1213.5\" y=\"-364.8\" font-family=\"Helvetica,sans-Serif\" font-size=\"14.00\" fill=\"#000000\">value = [34, 126]</text>\n<text text-anchor=\"middle\" x=\"1213.5\" y=\"-349.8\" font-family=\"Helvetica,sans-Serif\" font-size=\"14.00\" fill=\"#000000\">class = Yes</text>\n</g>\n<!-- 0&#45;&gt;16 -->\n<g id=\"edge16\" class=\"edge\">\n<title>0&#45;&gt;16</title>\n<path fill=\"none\" stroke=\"#000000\" d=\"M1026.6423,-471.3896C1061.9893,-454.7639 1105.5485,-434.2756 1141.716,-417.264\"/>\n<polygon fill=\"#000000\" stroke=\"#000000\" points=\"1143.6645,-420.2154 1151.2238,-412.792 1140.685,-413.8811 1143.6645,-420.2154\"/>\n<text text-anchor=\"middle\" x=\"1142.7513\" y=\"-432.6126\" font-family=\"Helvetica,sans-Serif\" font-size=\"14.00\" fill=\"#000000\">False</text>\n</g>\n<!-- 2 -->\n<g id=\"node3\" class=\"node\">\n<title>2</title>\n<path fill=\"#eef6fd\" stroke=\"#000000\" d=\"M412.5,-306C412.5,-306 320.5,-306 320.5,-306 314.5,-306 308.5,-300 308.5,-294 308.5,-294 308.5,-235 308.5,-235 308.5,-229 314.5,-223 320.5,-223 320.5,-223 412.5,-223 412.5,-223 418.5,-223 424.5,-229 424.5,-235 424.5,-235 424.5,-294 424.5,-294 424.5,-300 418.5,-306 412.5,-306\"/>\n<text text-anchor=\"middle\" x=\"366.5\" y=\"-290.8\" font-family=\"Helvetica,sans-Serif\" font-size=\"14.00\" fill=\"#000000\">thal &lt;= 2.5</text>\n<text text-anchor=\"middle\" x=\"366.5\" y=\"-275.8\" font-family=\"Helvetica,sans-Serif\" font-size=\"14.00\" fill=\"#000000\">gini = 0.499</text>\n<text text-anchor=\"middle\" x=\"366.5\" y=\"-260.8\" font-family=\"Helvetica,sans-Serif\" font-size=\"14.00\" fill=\"#000000\">samples = 65</text>\n<text text-anchor=\"middle\" x=\"366.5\" y=\"-245.8\" font-family=\"Helvetica,sans-Serif\" font-size=\"14.00\" fill=\"#000000\">value = [31, 34]</text>\n<text text-anchor=\"middle\" x=\"366.5\" y=\"-230.8\" font-family=\"Helvetica,sans-Serif\" font-size=\"14.00\" fill=\"#000000\">class = Yes</text>\n</g>\n<!-- 1&#45;&gt;2 -->\n<g id=\"edge2\" class=\"edge\">\n<title>1&#45;&gt;2</title>\n<path fill=\"none\" stroke=\"#000000\" d=\"M660.4895,-362.7718C597.2964,-341.6482 499.5574,-308.9771 434.3363,-287.1756\"/>\n<polygon fill=\"#000000\" stroke=\"#000000\" points=\"435.1519,-283.758 424.5581,-283.9071 432.9327,-290.3969 435.1519,-283.758\"/>\n</g>\n<!-- 9 -->\n<g id=\"node10\" class=\"node\">\n<title>9</title>\n<path fill=\"#e78a47\" stroke=\"#000000\" d=\"M775,-306C775,-306 670,-306 670,-306 664,-306 658,-300 658,-294 658,-294 658,-235 658,-235 658,-229 664,-223 670,-223 670,-223 775,-223 775,-223 781,-223 787,-229 787,-235 787,-235 787,-294 787,-294 787,-300 781,-306 775,-306\"/>\n<text text-anchor=\"middle\" x=\"722.5\" y=\"-290.8\" font-family=\"Helvetica,sans-Serif\" font-size=\"14.00\" fill=\"#000000\">trestbps &lt;= 109.0</text>\n<text text-anchor=\"middle\" x=\"722.5\" y=\"-275.8\" font-family=\"Helvetica,sans-Serif\" font-size=\"14.00\" fill=\"#000000\">gini = 0.12</text>\n<text text-anchor=\"middle\" x=\"722.5\" y=\"-260.8\" font-family=\"Helvetica,sans-Serif\" font-size=\"14.00\" fill=\"#000000\">samples = 78</text>\n<text text-anchor=\"middle\" x=\"722.5\" y=\"-245.8\" font-family=\"Helvetica,sans-Serif\" font-size=\"14.00\" fill=\"#000000\">value = [73, 5]</text>\n<text text-anchor=\"middle\" x=\"722.5\" y=\"-230.8\" font-family=\"Helvetica,sans-Serif\" font-size=\"14.00\" fill=\"#000000\">class = Yes</text>\n</g>\n<!-- 1&#45;&gt;9 -->\n<g id=\"edge9\" class=\"edge\">\n<title>1&#45;&gt;9</title>\n<path fill=\"none\" stroke=\"#000000\" d=\"M722.5,-341.8796C722.5,-333.6838 722.5,-324.9891 722.5,-316.5013\"/>\n<polygon fill=\"#000000\" stroke=\"#000000\" points=\"726.0001,-316.298 722.5,-306.2981 719.0001,-316.2981 726.0001,-316.298\"/>\n</g>\n<!-- 3 -->\n<g id=\"node4\" class=\"node\">\n<title>3</title>\n<path fill=\"#76bbed\" stroke=\"#000000\" d=\"M219,-187C219,-187 136,-187 136,-187 130,-187 124,-181 124,-175 124,-175 124,-116 124,-116 124,-110 130,-104 136,-104 136,-104 219,-104 219,-104 225,-104 231,-110 231,-116 231,-116 231,-175 231,-175 231,-181 225,-187 219,-187\"/>\n<text text-anchor=\"middle\" x=\"177.5\" y=\"-171.8\" font-family=\"Helvetica,sans-Serif\" font-size=\"14.00\" fill=\"#000000\">exang &lt;= 0.5</text>\n<text text-anchor=\"middle\" x=\"177.5\" y=\"-156.8\" font-family=\"Helvetica,sans-Serif\" font-size=\"14.00\" fill=\"#000000\">gini = 0.361</text>\n<text text-anchor=\"middle\" x=\"177.5\" y=\"-141.8\" font-family=\"Helvetica,sans-Serif\" font-size=\"14.00\" fill=\"#000000\">samples = 38</text>\n<text text-anchor=\"middle\" x=\"177.5\" y=\"-126.8\" font-family=\"Helvetica,sans-Serif\" font-size=\"14.00\" fill=\"#000000\">value = [9, 29]</text>\n<text text-anchor=\"middle\" x=\"177.5\" y=\"-111.8\" font-family=\"Helvetica,sans-Serif\" font-size=\"14.00\" fill=\"#000000\">class = Yes</text>\n</g>\n<!-- 2&#45;&gt;3 -->\n<g id=\"edge3\" class=\"edge\">\n<title>2&#45;&gt;3</title>\n<path fill=\"none\" stroke=\"#000000\" d=\"M308.2516,-227.8251C286.5159,-214.1396 261.7644,-198.5554 239.6877,-184.6552\"/>\n<polygon fill=\"#000000\" stroke=\"#000000\" points=\"241.378,-181.5835 231.0507,-179.2171 237.6482,-187.5071 241.378,-181.5835\"/>\n</g>\n<!-- 6 -->\n<g id=\"node7\" class=\"node\">\n<title>6</title>\n<path fill=\"#eb9e66\" stroke=\"#000000\" d=\"M415,-187C415,-187 318,-187 318,-187 312,-187 306,-181 306,-175 306,-175 306,-116 306,-116 306,-110 312,-104 318,-104 318,-104 415,-104 415,-104 421,-104 427,-110 427,-116 427,-116 427,-175 427,-175 427,-181 421,-187 415,-187\"/>\n<text text-anchor=\"middle\" x=\"366.5\" y=\"-171.8\" font-family=\"Helvetica,sans-Serif\" font-size=\"14.00\" fill=\"#000000\">oldpeak &lt;= 0.65</text>\n<text text-anchor=\"middle\" x=\"366.5\" y=\"-156.8\" font-family=\"Helvetica,sans-Serif\" font-size=\"14.00\" fill=\"#000000\">gini = 0.302</text>\n<text text-anchor=\"middle\" x=\"366.5\" y=\"-141.8\" font-family=\"Helvetica,sans-Serif\" font-size=\"14.00\" fill=\"#000000\">samples = 27</text>\n<text text-anchor=\"middle\" x=\"366.5\" y=\"-126.8\" font-family=\"Helvetica,sans-Serif\" font-size=\"14.00\" fill=\"#000000\">value = [22, 5]</text>\n<text text-anchor=\"middle\" x=\"366.5\" y=\"-111.8\" font-family=\"Helvetica,sans-Serif\" font-size=\"14.00\" fill=\"#000000\">class = Yes</text>\n</g>\n<!-- 2&#45;&gt;6 -->\n<g id=\"edge6\" class=\"edge\">\n<title>2&#45;&gt;6</title>\n<path fill=\"none\" stroke=\"#000000\" d=\"M366.5,-222.8796C366.5,-214.6838 366.5,-205.9891 366.5,-197.5013\"/>\n<polygon fill=\"#000000\" stroke=\"#000000\" points=\"370.0001,-197.298 366.5,-187.2981 363.0001,-197.2981 370.0001,-197.298\"/>\n</g>\n<!-- 4 -->\n<g id=\"node5\" class=\"node\">\n<title>4</title>\n<path fill=\"#4ba6e7\" stroke=\"#000000\" d=\"M95,-68C95,-68 12,-68 12,-68 6,-68 0,-62 0,-56 0,-56 0,-12 0,-12 0,-6 6,0 12,0 12,0 95,0 95,0 101,0 107,-6 107,-12 107,-12 107,-56 107,-56 107,-62 101,-68 95,-68\"/>\n<text text-anchor=\"middle\" x=\"53.5\" y=\"-52.8\" font-family=\"Helvetica,sans-Serif\" font-size=\"14.00\" fill=\"#000000\">gini = 0.153</text>\n<text text-anchor=\"middle\" x=\"53.5\" y=\"-37.8\" font-family=\"Helvetica,sans-Serif\" font-size=\"14.00\" fill=\"#000000\">samples = 24</text>\n<text text-anchor=\"middle\" x=\"53.5\" y=\"-22.8\" font-family=\"Helvetica,sans-Serif\" font-size=\"14.00\" fill=\"#000000\">value = [2, 22]</text>\n<text text-anchor=\"middle\" x=\"53.5\" y=\"-7.8\" font-family=\"Helvetica,sans-Serif\" font-size=\"14.00\" fill=\"#000000\">class = Yes</text>\n</g>\n<!-- 3&#45;&gt;4 -->\n<g id=\"edge4\" class=\"edge\">\n<title>3&#45;&gt;4</title>\n<path fill=\"none\" stroke=\"#000000\" d=\"M131.327,-103.9815C120.7993,-94.5151 109.6192,-84.462 99.1151,-75.0168\"/>\n<polygon fill=\"#000000\" stroke=\"#000000\" points=\"101.3811,-72.3475 91.6049,-68.2637 96.7006,-77.5526 101.3811,-72.3475\"/>\n</g>\n<!-- 5 -->\n<g id=\"node6\" class=\"node\">\n<title>5</title>\n<path fill=\"#ffffff\" stroke=\"#000000\" d=\"M217.5,-68C217.5,-68 137.5,-68 137.5,-68 131.5,-68 125.5,-62 125.5,-56 125.5,-56 125.5,-12 125.5,-12 125.5,-6 131.5,0 137.5,0 137.5,0 217.5,0 217.5,0 223.5,0 229.5,-6 229.5,-12 229.5,-12 229.5,-56 229.5,-56 229.5,-62 223.5,-68 217.5,-68\"/>\n<text text-anchor=\"middle\" x=\"177.5\" y=\"-52.8\" font-family=\"Helvetica,sans-Serif\" font-size=\"14.00\" fill=\"#000000\">gini = 0.5</text>\n<text text-anchor=\"middle\" x=\"177.5\" y=\"-37.8\" font-family=\"Helvetica,sans-Serif\" font-size=\"14.00\" fill=\"#000000\">samples = 14</text>\n<text text-anchor=\"middle\" x=\"177.5\" y=\"-22.8\" font-family=\"Helvetica,sans-Serif\" font-size=\"14.00\" fill=\"#000000\">value = [7, 7]</text>\n<text text-anchor=\"middle\" x=\"177.5\" y=\"-7.8\" font-family=\"Helvetica,sans-Serif\" font-size=\"14.00\" fill=\"#000000\">class = Yes</text>\n</g>\n<!-- 3&#45;&gt;5 -->\n<g id=\"edge5\" class=\"edge\">\n<title>3&#45;&gt;5</title>\n<path fill=\"none\" stroke=\"#000000\" d=\"M177.5,-103.9815C177.5,-95.618 177.5,-86.7965 177.5,-78.3409\"/>\n<polygon fill=\"#000000\" stroke=\"#000000\" points=\"181.0001,-78.2636 177.5,-68.2637 174.0001,-78.2637 181.0001,-78.2636\"/>\n</g>\n<!-- 7 -->\n<g id=\"node8\" class=\"node\">\n<title>7</title>\n<path fill=\"#ffffff\" stroke=\"#000000\" d=\"M339.5,-68C339.5,-68 259.5,-68 259.5,-68 253.5,-68 247.5,-62 247.5,-56 247.5,-56 247.5,-12 247.5,-12 247.5,-6 253.5,0 259.5,0 259.5,0 339.5,0 339.5,0 345.5,0 351.5,-6 351.5,-12 351.5,-12 351.5,-56 351.5,-56 351.5,-62 345.5,-68 339.5,-68\"/>\n<text text-anchor=\"middle\" x=\"299.5\" y=\"-52.8\" font-family=\"Helvetica,sans-Serif\" font-size=\"14.00\" fill=\"#000000\">gini = 0.5</text>\n<text text-anchor=\"middle\" x=\"299.5\" y=\"-37.8\" font-family=\"Helvetica,sans-Serif\" font-size=\"14.00\" fill=\"#000000\">samples = 10</text>\n<text text-anchor=\"middle\" x=\"299.5\" y=\"-22.8\" font-family=\"Helvetica,sans-Serif\" font-size=\"14.00\" fill=\"#000000\">value = [5, 5]</text>\n<text text-anchor=\"middle\" x=\"299.5\" y=\"-7.8\" font-family=\"Helvetica,sans-Serif\" font-size=\"14.00\" fill=\"#000000\">class = Yes</text>\n</g>\n<!-- 6&#45;&gt;7 -->\n<g id=\"edge7\" class=\"edge\">\n<title>6&#45;&gt;7</title>\n<path fill=\"none\" stroke=\"#000000\" d=\"M341.5517,-103.9815C336.2499,-95.1585 330.6419,-85.8258 325.3089,-76.9506\"/>\n<polygon fill=\"#000000\" stroke=\"#000000\" points=\"328.2396,-75.0325 320.0889,-68.2637 322.2395,-78.638 328.2396,-75.0325\"/>\n</g>\n<!-- 8 -->\n<g id=\"node9\" class=\"node\">\n<title>8</title>\n<path fill=\"#e58139\" stroke=\"#000000\" d=\"M465,-68C465,-68 382,-68 382,-68 376,-68 370,-62 370,-56 370,-56 370,-12 370,-12 370,-6 376,0 382,0 382,0 465,0 465,0 471,0 477,-6 477,-12 477,-12 477,-56 477,-56 477,-62 471,-68 465,-68\"/>\n<text text-anchor=\"middle\" x=\"423.5\" y=\"-52.8\" font-family=\"Helvetica,sans-Serif\" font-size=\"14.00\" fill=\"#000000\">gini = 0.0</text>\n<text text-anchor=\"middle\" x=\"423.5\" y=\"-37.8\" font-family=\"Helvetica,sans-Serif\" font-size=\"14.00\" fill=\"#000000\">samples = 17</text>\n<text text-anchor=\"middle\" x=\"423.5\" y=\"-22.8\" font-family=\"Helvetica,sans-Serif\" font-size=\"14.00\" fill=\"#000000\">value = [17, 0]</text>\n<text text-anchor=\"middle\" x=\"423.5\" y=\"-7.8\" font-family=\"Helvetica,sans-Serif\" font-size=\"14.00\" fill=\"#000000\">class = Yes</text>\n</g>\n<!-- 6&#45;&gt;8 -->\n<g id=\"edge8\" class=\"edge\">\n<title>6&#45;&gt;8</title>\n<path fill=\"none\" stroke=\"#000000\" d=\"M387.7247,-103.9815C392.1881,-95.2504 396.9067,-86.0202 401.4013,-77.2281\"/>\n<polygon fill=\"#000000\" stroke=\"#000000\" points=\"404.5486,-78.7608 405.984,-68.2637 398.3158,-75.5745 404.5486,-78.7608\"/>\n</g>\n<!-- 10 -->\n<g id=\"node11\" class=\"node\">\n<title>10</title>\n<path fill=\"#f6d5bd\" stroke=\"#000000\" d=\"M700.5,-187C700.5,-187 620.5,-187 620.5,-187 614.5,-187 608.5,-181 608.5,-175 608.5,-175 608.5,-116 608.5,-116 608.5,-110 614.5,-104 620.5,-104 620.5,-104 700.5,-104 700.5,-104 706.5,-104 712.5,-110 712.5,-116 712.5,-116 712.5,-175 712.5,-175 712.5,-181 706.5,-187 700.5,-187\"/>\n<text text-anchor=\"middle\" x=\"660.5\" y=\"-171.8\" font-family=\"Helvetica,sans-Serif\" font-size=\"14.00\" fill=\"#000000\">chol &lt;= 233.5</text>\n<text text-anchor=\"middle\" x=\"660.5\" y=\"-156.8\" font-family=\"Helvetica,sans-Serif\" font-size=\"14.00\" fill=\"#000000\">gini = 0.48</text>\n<text text-anchor=\"middle\" x=\"660.5\" y=\"-141.8\" font-family=\"Helvetica,sans-Serif\" font-size=\"14.00\" fill=\"#000000\">samples = 5</text>\n<text text-anchor=\"middle\" x=\"660.5\" y=\"-126.8\" font-family=\"Helvetica,sans-Serif\" font-size=\"14.00\" fill=\"#000000\">value = [3, 2]</text>\n<text text-anchor=\"middle\" x=\"660.5\" y=\"-111.8\" font-family=\"Helvetica,sans-Serif\" font-size=\"14.00\" fill=\"#000000\">class = Yes</text>\n</g>\n<!-- 9&#45;&gt;10 -->\n<g id=\"edge10\" class=\"edge\">\n<title>9&#45;&gt;10</title>\n<path fill=\"none\" stroke=\"#000000\" d=\"M700.8154,-222.8796C696.3577,-214.3236 691.6166,-205.2238 687.0106,-196.3833\"/>\n<polygon fill=\"#000000\" stroke=\"#000000\" points=\"690.0017,-194.5494 682.2771,-187.2981 683.7938,-197.7838 690.0017,-194.5494\"/>\n</g>\n<!-- 13 -->\n<g id=\"node14\" class=\"node\">\n<title>13</title>\n<path fill=\"#e68641\" stroke=\"#000000\" d=\"M826,-187C826,-187 743,-187 743,-187 737,-187 731,-181 731,-175 731,-175 731,-116 731,-116 731,-110 737,-104 743,-104 743,-104 826,-104 826,-104 832,-104 838,-110 838,-116 838,-116 838,-175 838,-175 838,-181 832,-187 826,-187\"/>\n<text text-anchor=\"middle\" x=\"784.5\" y=\"-171.8\" font-family=\"Helvetica,sans-Serif\" font-size=\"14.00\" fill=\"#000000\">chol &lt;= 301.5</text>\n<text text-anchor=\"middle\" x=\"784.5\" y=\"-156.8\" font-family=\"Helvetica,sans-Serif\" font-size=\"14.00\" fill=\"#000000\">gini = 0.079</text>\n<text text-anchor=\"middle\" x=\"784.5\" y=\"-141.8\" font-family=\"Helvetica,sans-Serif\" font-size=\"14.00\" fill=\"#000000\">samples = 73</text>\n<text text-anchor=\"middle\" x=\"784.5\" y=\"-126.8\" font-family=\"Helvetica,sans-Serif\" font-size=\"14.00\" fill=\"#000000\">value = [70, 3]</text>\n<text text-anchor=\"middle\" x=\"784.5\" y=\"-111.8\" font-family=\"Helvetica,sans-Serif\" font-size=\"14.00\" fill=\"#000000\">class = Yes</text>\n</g>\n<!-- 9&#45;&gt;13 -->\n<g id=\"edge13\" class=\"edge\">\n<title>9&#45;&gt;13</title>\n<path fill=\"none\" stroke=\"#000000\" d=\"M744.1846,-222.8796C748.6423,-214.3236 753.3834,-205.2238 757.9894,-196.3833\"/>\n<polygon fill=\"#000000\" stroke=\"#000000\" points=\"761.2062,-197.7838 762.7229,-187.2981 754.9983,-194.5494 761.2062,-197.7838\"/>\n</g>\n<!-- 11 -->\n<g id=\"node12\" class=\"node\">\n<title>11</title>\n<path fill=\"#399de5\" stroke=\"#000000\" d=\"M582,-68C582,-68 507,-68 507,-68 501,-68 495,-62 495,-56 495,-56 495,-12 495,-12 495,-6 501,0 507,0 507,0 582,0 582,0 588,0 594,-6 594,-12 594,-12 594,-56 594,-56 594,-62 588,-68 582,-68\"/>\n<text text-anchor=\"middle\" x=\"544.5\" y=\"-52.8\" font-family=\"Helvetica,sans-Serif\" font-size=\"14.00\" fill=\"#000000\">gini = 0.0</text>\n<text text-anchor=\"middle\" x=\"544.5\" y=\"-37.8\" font-family=\"Helvetica,sans-Serif\" font-size=\"14.00\" fill=\"#000000\">samples = 2</text>\n<text text-anchor=\"middle\" x=\"544.5\" y=\"-22.8\" font-family=\"Helvetica,sans-Serif\" font-size=\"14.00\" fill=\"#000000\">value = [0, 2]</text>\n<text text-anchor=\"middle\" x=\"544.5\" y=\"-7.8\" font-family=\"Helvetica,sans-Serif\" font-size=\"14.00\" fill=\"#000000\">class = Yes</text>\n</g>\n<!-- 10&#45;&gt;11 -->\n<g id=\"edge11\" class=\"edge\">\n<title>10&#45;&gt;11</title>\n<path fill=\"none\" stroke=\"#000000\" d=\"M617.3059,-103.9815C607.5531,-94.607 597.2017,-84.6572 587.4586,-75.2921\"/>\n<polygon fill=\"#000000\" stroke=\"#000000\" points=\"589.7815,-72.6702 580.1465,-68.2637 584.9306,-77.7169 589.7815,-72.6702\"/>\n</g>\n<!-- 12 -->\n<g id=\"node13\" class=\"node\">\n<title>12</title>\n<path fill=\"#e58139\" stroke=\"#000000\" d=\"M699,-68C699,-68 624,-68 624,-68 618,-68 612,-62 612,-56 612,-56 612,-12 612,-12 612,-6 618,0 624,0 624,0 699,0 699,0 705,0 711,-6 711,-12 711,-12 711,-56 711,-56 711,-62 705,-68 699,-68\"/>\n<text text-anchor=\"middle\" x=\"661.5\" y=\"-52.8\" font-family=\"Helvetica,sans-Serif\" font-size=\"14.00\" fill=\"#000000\">gini = 0.0</text>\n<text text-anchor=\"middle\" x=\"661.5\" y=\"-37.8\" font-family=\"Helvetica,sans-Serif\" font-size=\"14.00\" fill=\"#000000\">samples = 3</text>\n<text text-anchor=\"middle\" x=\"661.5\" y=\"-22.8\" font-family=\"Helvetica,sans-Serif\" font-size=\"14.00\" fill=\"#000000\">value = [3, 0]</text>\n<text text-anchor=\"middle\" x=\"661.5\" y=\"-7.8\" font-family=\"Helvetica,sans-Serif\" font-size=\"14.00\" fill=\"#000000\">class = Yes</text>\n</g>\n<!-- 10&#45;&gt;12 -->\n<g id=\"edge12\" class=\"edge\">\n<title>10&#45;&gt;12</title>\n<path fill=\"none\" stroke=\"#000000\" d=\"M660.8724,-103.9815C660.9474,-95.618 661.0265,-86.7965 661.1023,-78.3409\"/>\n<polygon fill=\"#000000\" stroke=\"#000000\" points=\"664.6028,-78.2947 661.1927,-68.2637 657.6031,-78.2318 664.6028,-78.2947\"/>\n</g>\n<!-- 14 -->\n<g id=\"node15\" class=\"node\">\n<title>14</title>\n<path fill=\"#e5833c\" stroke=\"#000000\" d=\"M824,-68C824,-68 741,-68 741,-68 735,-68 729,-62 729,-56 729,-56 729,-12 729,-12 729,-6 735,0 741,0 741,0 824,0 824,0 830,0 836,-6 836,-12 836,-12 836,-56 836,-56 836,-62 830,-68 824,-68\"/>\n<text text-anchor=\"middle\" x=\"782.5\" y=\"-52.8\" font-family=\"Helvetica,sans-Serif\" font-size=\"14.00\" fill=\"#000000\">gini = 0.032</text>\n<text text-anchor=\"middle\" x=\"782.5\" y=\"-37.8\" font-family=\"Helvetica,sans-Serif\" font-size=\"14.00\" fill=\"#000000\">samples = 61</text>\n<text text-anchor=\"middle\" x=\"782.5\" y=\"-22.8\" font-family=\"Helvetica,sans-Serif\" font-size=\"14.00\" fill=\"#000000\">value = [60, 1]</text>\n<text text-anchor=\"middle\" x=\"782.5\" y=\"-7.8\" font-family=\"Helvetica,sans-Serif\" font-size=\"14.00\" fill=\"#000000\">class = Yes</text>\n</g>\n<!-- 13&#45;&gt;14 -->\n<g id=\"edge14\" class=\"edge\">\n<title>13&#45;&gt;14</title>\n<path fill=\"none\" stroke=\"#000000\" d=\"M783.7553,-103.9815C783.6053,-95.618 783.447,-86.7965 783.2954,-78.3409\"/>\n<polygon fill=\"#000000\" stroke=\"#000000\" points=\"786.7935,-78.1993 783.1146,-68.2637 779.7946,-78.3249 786.7935,-78.1993\"/>\n</g>\n<!-- 15 -->\n<g id=\"node16\" class=\"node\">\n<title>15</title>\n<path fill=\"#ea9a61\" stroke=\"#000000\" d=\"M949,-68C949,-68 866,-68 866,-68 860,-68 854,-62 854,-56 854,-56 854,-12 854,-12 854,-6 860,0 866,0 866,0 949,0 949,0 955,0 961,-6 961,-12 961,-12 961,-56 961,-56 961,-62 955,-68 949,-68\"/>\n<text text-anchor=\"middle\" x=\"907.5\" y=\"-52.8\" font-family=\"Helvetica,sans-Serif\" font-size=\"14.00\" fill=\"#000000\">gini = 0.278</text>\n<text text-anchor=\"middle\" x=\"907.5\" y=\"-37.8\" font-family=\"Helvetica,sans-Serif\" font-size=\"14.00\" fill=\"#000000\">samples = 12</text>\n<text text-anchor=\"middle\" x=\"907.5\" y=\"-22.8\" font-family=\"Helvetica,sans-Serif\" font-size=\"14.00\" fill=\"#000000\">value = [10, 2]</text>\n<text text-anchor=\"middle\" x=\"907.5\" y=\"-7.8\" font-family=\"Helvetica,sans-Serif\" font-size=\"14.00\" fill=\"#000000\">class = Yes</text>\n</g>\n<!-- 13&#45;&gt;15 -->\n<g id=\"edge15\" class=\"edge\">\n<title>13&#45;&gt;15</title>\n<path fill=\"none\" stroke=\"#000000\" d=\"M830.3007,-103.9815C840.7434,-94.5151 851.8333,-84.462 862.2528,-75.0168\"/>\n<polygon fill=\"#000000\" stroke=\"#000000\" points=\"864.6441,-77.5731 869.7024,-68.2637 859.9428,-72.3868 864.6441,-77.5731\"/>\n</g>\n<!-- 17 -->\n<g id=\"node18\" class=\"node\">\n<title>17</title>\n<path fill=\"#57ace9\" stroke=\"#000000\" d=\"M1263.5,-306C1263.5,-306 1163.5,-306 1163.5,-306 1157.5,-306 1151.5,-300 1151.5,-294 1151.5,-294 1151.5,-235 1151.5,-235 1151.5,-229 1157.5,-223 1163.5,-223 1163.5,-223 1263.5,-223 1263.5,-223 1269.5,-223 1275.5,-229 1275.5,-235 1275.5,-235 1275.5,-294 1275.5,-294 1275.5,-300 1269.5,-306 1263.5,-306\"/>\n<text text-anchor=\"middle\" x=\"1213.5\" y=\"-290.8\" font-family=\"Helvetica,sans-Serif\" font-size=\"14.00\" fill=\"#000000\">age &lt;= 55.5</text>\n<text text-anchor=\"middle\" x=\"1213.5\" y=\"-275.8\" font-family=\"Helvetica,sans-Serif\" font-size=\"14.00\" fill=\"#000000\">gini = 0.229</text>\n<text text-anchor=\"middle\" x=\"1213.5\" y=\"-260.8\" font-family=\"Helvetica,sans-Serif\" font-size=\"14.00\" fill=\"#000000\">samples = 121</text>\n<text text-anchor=\"middle\" x=\"1213.5\" y=\"-245.8\" font-family=\"Helvetica,sans-Serif\" font-size=\"14.00\" fill=\"#000000\">value = [16, 105]</text>\n<text text-anchor=\"middle\" x=\"1213.5\" y=\"-230.8\" font-family=\"Helvetica,sans-Serif\" font-size=\"14.00\" fill=\"#000000\">class = Yes</text>\n</g>\n<!-- 16&#45;&gt;17 -->\n<g id=\"edge17\" class=\"edge\">\n<title>16&#45;&gt;17</title>\n<path fill=\"none\" stroke=\"#000000\" d=\"M1213.5,-341.8796C1213.5,-333.6838 1213.5,-324.9891 1213.5,-316.5013\"/>\n<polygon fill=\"#000000\" stroke=\"#000000\" points=\"1217.0001,-316.298 1213.5,-306.2981 1210.0001,-316.2981 1217.0001,-316.298\"/>\n</g>\n<!-- 24 -->\n<g id=\"node25\" class=\"node\">\n<title>24</title>\n<path fill=\"#e3f1fb\" stroke=\"#000000\" d=\"M1634,-306C1634,-306 1533,-306 1533,-306 1527,-306 1521,-300 1521,-294 1521,-294 1521,-235 1521,-235 1521,-229 1527,-223 1533,-223 1533,-223 1634,-223 1634,-223 1640,-223 1646,-229 1646,-235 1646,-235 1646,-294 1646,-294 1646,-300 1640,-306 1634,-306\"/>\n<text text-anchor=\"middle\" x=\"1583.5\" y=\"-290.8\" font-family=\"Helvetica,sans-Serif\" font-size=\"14.00\" fill=\"#000000\">thalach &lt;= 142.5</text>\n<text text-anchor=\"middle\" x=\"1583.5\" y=\"-275.8\" font-family=\"Helvetica,sans-Serif\" font-size=\"14.00\" fill=\"#000000\">gini = 0.497</text>\n<text text-anchor=\"middle\" x=\"1583.5\" y=\"-260.8\" font-family=\"Helvetica,sans-Serif\" font-size=\"14.00\" fill=\"#000000\">samples = 39</text>\n<text text-anchor=\"middle\" x=\"1583.5\" y=\"-245.8\" font-family=\"Helvetica,sans-Serif\" font-size=\"14.00\" fill=\"#000000\">value = [18, 21]</text>\n<text text-anchor=\"middle\" x=\"1583.5\" y=\"-230.8\" font-family=\"Helvetica,sans-Serif\" font-size=\"14.00\" fill=\"#000000\">class = Yes</text>\n</g>\n<!-- 16&#45;&gt;24 -->\n<g id=\"edge24\" class=\"edge\">\n<title>16&#45;&gt;24</title>\n<path fill=\"none\" stroke=\"#000000\" d=\"M1275.8471,-363.4478C1340.8215,-342.5506 1442.5332,-309.838 1511.0391,-287.805\"/>\n<polygon fill=\"#000000\" stroke=\"#000000\" points=\"1512.4492,-291.0281 1520.8973,-284.6344 1510.3059,-284.3643 1512.4492,-291.0281\"/>\n</g>\n<!-- 18 -->\n<g id=\"node19\" class=\"node\">\n<title>18</title>\n<path fill=\"#41a1e6\" stroke=\"#000000\" d=\"M1194,-187C1194,-187 1097,-187 1097,-187 1091,-187 1085,-181 1085,-175 1085,-175 1085,-116 1085,-116 1085,-110 1091,-104 1097,-104 1097,-104 1194,-104 1194,-104 1200,-104 1206,-110 1206,-116 1206,-116 1206,-175 1206,-175 1206,-181 1200,-187 1194,-187\"/>\n<text text-anchor=\"middle\" x=\"1145.5\" y=\"-171.8\" font-family=\"Helvetica,sans-Serif\" font-size=\"14.00\" fill=\"#000000\">oldpeak &lt;= 3.55</text>\n<text text-anchor=\"middle\" x=\"1145.5\" y=\"-156.8\" font-family=\"Helvetica,sans-Serif\" font-size=\"14.00\" fill=\"#000000\">gini = 0.076</text>\n<text text-anchor=\"middle\" x=\"1145.5\" y=\"-141.8\" font-family=\"Helvetica,sans-Serif\" font-size=\"14.00\" fill=\"#000000\">samples = 76</text>\n<text text-anchor=\"middle\" x=\"1145.5\" y=\"-126.8\" font-family=\"Helvetica,sans-Serif\" font-size=\"14.00\" fill=\"#000000\">value = [3, 73]</text>\n<text text-anchor=\"middle\" x=\"1145.5\" y=\"-111.8\" font-family=\"Helvetica,sans-Serif\" font-size=\"14.00\" fill=\"#000000\">class = Yes</text>\n</g>\n<!-- 17&#45;&gt;18 -->\n<g id=\"edge18\" class=\"edge\">\n<title>17&#45;&gt;18</title>\n<path fill=\"none\" stroke=\"#000000\" d=\"M1189.7169,-222.8796C1184.7763,-214.2335 1179.5184,-205.0322 1174.4167,-196.1042\"/>\n<polygon fill=\"#000000\" stroke=\"#000000\" points=\"1177.3849,-194.244 1169.3846,-187.2981 1171.3072,-197.717 1177.3849,-194.244\"/>\n</g>\n<!-- 21 -->\n<g id=\"node22\" class=\"node\">\n<title>21</title>\n<path fill=\"#89c5f0\" stroke=\"#000000\" d=\"M1328.5,-187C1328.5,-187 1236.5,-187 1236.5,-187 1230.5,-187 1224.5,-181 1224.5,-175 1224.5,-175 1224.5,-116 1224.5,-116 1224.5,-110 1230.5,-104 1236.5,-104 1236.5,-104 1328.5,-104 1328.5,-104 1334.5,-104 1340.5,-110 1340.5,-116 1340.5,-116 1340.5,-175 1340.5,-175 1340.5,-181 1334.5,-187 1328.5,-187\"/>\n<text text-anchor=\"middle\" x=\"1282.5\" y=\"-171.8\" font-family=\"Helvetica,sans-Serif\" font-size=\"14.00\" fill=\"#000000\">sex &lt;= 0.5</text>\n<text text-anchor=\"middle\" x=\"1282.5\" y=\"-156.8\" font-family=\"Helvetica,sans-Serif\" font-size=\"14.00\" fill=\"#000000\">gini = 0.411</text>\n<text text-anchor=\"middle\" x=\"1282.5\" y=\"-141.8\" font-family=\"Helvetica,sans-Serif\" font-size=\"14.00\" fill=\"#000000\">samples = 45</text>\n<text text-anchor=\"middle\" x=\"1282.5\" y=\"-126.8\" font-family=\"Helvetica,sans-Serif\" font-size=\"14.00\" fill=\"#000000\">value = [13, 32]</text>\n<text text-anchor=\"middle\" x=\"1282.5\" y=\"-111.8\" font-family=\"Helvetica,sans-Serif\" font-size=\"14.00\" fill=\"#000000\">class = Yes</text>\n</g>\n<!-- 17&#45;&gt;21 -->\n<g id=\"edge21\" class=\"edge\">\n<title>17&#45;&gt;21</title>\n<path fill=\"none\" stroke=\"#000000\" d=\"M1237.6329,-222.8796C1242.6461,-214.2335 1247.9813,-205.0322 1253.1581,-196.1042\"/>\n<polygon fill=\"#000000\" stroke=\"#000000\" points=\"1256.2758,-197.7047 1258.2641,-187.2981 1250.2202,-194.1934 1256.2758,-197.7047\"/>\n</g>\n<!-- 19 -->\n<g id=\"node20\" class=\"node\">\n<title>19</title>\n<path fill=\"#3ea0e6\" stroke=\"#000000\" d=\"M1074,-68C1074,-68 991,-68 991,-68 985,-68 979,-62 979,-56 979,-56 979,-12 979,-12 979,-6 985,0 991,0 991,0 1074,0 1074,0 1080,0 1086,-6 1086,-12 1086,-12 1086,-56 1086,-56 1086,-62 1080,-68 1074,-68\"/>\n<text text-anchor=\"middle\" x=\"1032.5\" y=\"-52.8\" font-family=\"Helvetica,sans-Serif\" font-size=\"14.00\" fill=\"#000000\">gini = 0.052</text>\n<text text-anchor=\"middle\" x=\"1032.5\" y=\"-37.8\" font-family=\"Helvetica,sans-Serif\" font-size=\"14.00\" fill=\"#000000\">samples = 75</text>\n<text text-anchor=\"middle\" x=\"1032.5\" y=\"-22.8\" font-family=\"Helvetica,sans-Serif\" font-size=\"14.00\" fill=\"#000000\">value = [2, 73]</text>\n<text text-anchor=\"middle\" x=\"1032.5\" y=\"-7.8\" font-family=\"Helvetica,sans-Serif\" font-size=\"14.00\" fill=\"#000000\">class = Yes</text>\n</g>\n<!-- 18&#45;&gt;19 -->\n<g id=\"edge19\" class=\"edge\">\n<title>18&#45;&gt;19</title>\n<path fill=\"none\" stroke=\"#000000\" d=\"M1103.423,-103.9815C1093.9224,-94.607 1083.8387,-84.6572 1074.3476,-75.2921\"/>\n<polygon fill=\"#000000\" stroke=\"#000000\" points=\"1076.8011,-72.796 1067.2246,-68.2637 1071.8845,-77.7787 1076.8011,-72.796\"/>\n</g>\n<!-- 20 -->\n<g id=\"node21\" class=\"node\">\n<title>20</title>\n<path fill=\"#e58139\" stroke=\"#000000\" d=\"M1191,-68C1191,-68 1116,-68 1116,-68 1110,-68 1104,-62 1104,-56 1104,-56 1104,-12 1104,-12 1104,-6 1110,0 1116,0 1116,0 1191,0 1191,0 1197,0 1203,-6 1203,-12 1203,-12 1203,-56 1203,-56 1203,-62 1197,-68 1191,-68\"/>\n<text text-anchor=\"middle\" x=\"1153.5\" y=\"-52.8\" font-family=\"Helvetica,sans-Serif\" font-size=\"14.00\" fill=\"#000000\">gini = 0.0</text>\n<text text-anchor=\"middle\" x=\"1153.5\" y=\"-37.8\" font-family=\"Helvetica,sans-Serif\" font-size=\"14.00\" fill=\"#000000\">samples = 1</text>\n<text text-anchor=\"middle\" x=\"1153.5\" y=\"-22.8\" font-family=\"Helvetica,sans-Serif\" font-size=\"14.00\" fill=\"#000000\">value = [1, 0]</text>\n<text text-anchor=\"middle\" x=\"1153.5\" y=\"-7.8\" font-family=\"Helvetica,sans-Serif\" font-size=\"14.00\" fill=\"#000000\">class = Yes</text>\n</g>\n<!-- 18&#45;&gt;20 -->\n<g id=\"edge20\" class=\"edge\">\n<title>18&#45;&gt;20</title>\n<path fill=\"none\" stroke=\"#000000\" d=\"M1148.4789,-103.9815C1149.079,-95.618 1149.7119,-86.7965 1150.3186,-78.3409\"/>\n<polygon fill=\"#000000\" stroke=\"#000000\" points=\"1153.8169,-78.4885 1151.0416,-68.2637 1146.8349,-77.9875 1153.8169,-78.4885\"/>\n</g>\n<!-- 22 -->\n<g id=\"node23\" class=\"node\">\n<title>22</title>\n<path fill=\"#4da7e8\" stroke=\"#000000\" d=\"M1316,-68C1316,-68 1233,-68 1233,-68 1227,-68 1221,-62 1221,-56 1221,-56 1221,-12 1221,-12 1221,-6 1227,0 1233,0 1233,0 1316,0 1316,0 1322,0 1328,-6 1328,-12 1328,-12 1328,-56 1328,-56 1328,-62 1322,-68 1316,-68\"/>\n<text text-anchor=\"middle\" x=\"1274.5\" y=\"-52.8\" font-family=\"Helvetica,sans-Serif\" font-size=\"14.00\" fill=\"#000000\">gini = 0.165</text>\n<text text-anchor=\"middle\" x=\"1274.5\" y=\"-37.8\" font-family=\"Helvetica,sans-Serif\" font-size=\"14.00\" fill=\"#000000\">samples = 22</text>\n<text text-anchor=\"middle\" x=\"1274.5\" y=\"-22.8\" font-family=\"Helvetica,sans-Serif\" font-size=\"14.00\" fill=\"#000000\">value = [2, 20]</text>\n<text text-anchor=\"middle\" x=\"1274.5\" y=\"-7.8\" font-family=\"Helvetica,sans-Serif\" font-size=\"14.00\" fill=\"#000000\">class = Yes</text>\n</g>\n<!-- 21&#45;&gt;22 -->\n<g id=\"edge22\" class=\"edge\">\n<title>21&#45;&gt;22</title>\n<path fill=\"none\" stroke=\"#000000\" d=\"M1279.5211,-103.9815C1278.921,-95.618 1278.2881,-86.7965 1277.6814,-78.3409\"/>\n<polygon fill=\"#000000\" stroke=\"#000000\" points=\"1281.1651,-77.9875 1276.9584,-68.2637 1274.1831,-78.4885 1281.1651,-77.9875\"/>\n</g>\n<!-- 23 -->\n<g id=\"node24\" class=\"node\">\n<title>23</title>\n<path fill=\"#eff7fd\" stroke=\"#000000\" d=\"M1450.5,-68C1450.5,-68 1358.5,-68 1358.5,-68 1352.5,-68 1346.5,-62 1346.5,-56 1346.5,-56 1346.5,-12 1346.5,-12 1346.5,-6 1352.5,0 1358.5,0 1358.5,0 1450.5,0 1450.5,0 1456.5,0 1462.5,-6 1462.5,-12 1462.5,-12 1462.5,-56 1462.5,-56 1462.5,-62 1456.5,-68 1450.5,-68\"/>\n<text text-anchor=\"middle\" x=\"1404.5\" y=\"-52.8\" font-family=\"Helvetica,sans-Serif\" font-size=\"14.00\" fill=\"#000000\">gini = 0.499</text>\n<text text-anchor=\"middle\" x=\"1404.5\" y=\"-37.8\" font-family=\"Helvetica,sans-Serif\" font-size=\"14.00\" fill=\"#000000\">samples = 23</text>\n<text text-anchor=\"middle\" x=\"1404.5\" y=\"-22.8\" font-family=\"Helvetica,sans-Serif\" font-size=\"14.00\" fill=\"#000000\">value = [11, 12]</text>\n<text text-anchor=\"middle\" x=\"1404.5\" y=\"-7.8\" font-family=\"Helvetica,sans-Serif\" font-size=\"14.00\" fill=\"#000000\">class = Yes</text>\n</g>\n<!-- 21&#45;&gt;23 -->\n<g id=\"edge23\" class=\"edge\">\n<title>21&#45;&gt;23</title>\n<path fill=\"none\" stroke=\"#000000\" d=\"M1327.9283,-103.9815C1338.2861,-94.5151 1349.2859,-84.462 1359.6206,-75.0168\"/>\n<polygon fill=\"#000000\" stroke=\"#000000\" points=\"1361.9893,-77.5935 1367.0097,-68.2637 1357.2669,-72.4264 1361.9893,-77.5935\"/>\n</g>\n<!-- 25 -->\n<g id=\"node26\" class=\"node\">\n<title>25</title>\n<path fill=\"#e99355\" stroke=\"#000000\" d=\"M1623.5,-187C1623.5,-187 1543.5,-187 1543.5,-187 1537.5,-187 1531.5,-181 1531.5,-175 1531.5,-175 1531.5,-116 1531.5,-116 1531.5,-110 1537.5,-104 1543.5,-104 1543.5,-104 1623.5,-104 1623.5,-104 1629.5,-104 1635.5,-110 1635.5,-116 1635.5,-116 1635.5,-175 1635.5,-175 1635.5,-181 1629.5,-187 1623.5,-187\"/>\n<text text-anchor=\"middle\" x=\"1583.5\" y=\"-171.8\" font-family=\"Helvetica,sans-Serif\" font-size=\"14.00\" fill=\"#000000\">chol &lt;= 311.0</text>\n<text text-anchor=\"middle\" x=\"1583.5\" y=\"-156.8\" font-family=\"Helvetica,sans-Serif\" font-size=\"14.00\" fill=\"#000000\">gini = 0.219</text>\n<text text-anchor=\"middle\" x=\"1583.5\" y=\"-141.8\" font-family=\"Helvetica,sans-Serif\" font-size=\"14.00\" fill=\"#000000\">samples = 8</text>\n<text text-anchor=\"middle\" x=\"1583.5\" y=\"-126.8\" font-family=\"Helvetica,sans-Serif\" font-size=\"14.00\" fill=\"#000000\">value = [7, 1]</text>\n<text text-anchor=\"middle\" x=\"1583.5\" y=\"-111.8\" font-family=\"Helvetica,sans-Serif\" font-size=\"14.00\" fill=\"#000000\">class = Yes</text>\n</g>\n<!-- 24&#45;&gt;25 -->\n<g id=\"edge25\" class=\"edge\">\n<title>24&#45;&gt;25</title>\n<path fill=\"none\" stroke=\"#000000\" d=\"M1583.5,-222.8796C1583.5,-214.6838 1583.5,-205.9891 1583.5,-197.5013\"/>\n<polygon fill=\"#000000\" stroke=\"#000000\" points=\"1587.0001,-197.298 1583.5,-187.2981 1580.0001,-197.2981 1587.0001,-197.298\"/>\n</g>\n<!-- 28 -->\n<g id=\"node29\" class=\"node\">\n<title>28</title>\n<path fill=\"#a6d3f3\" stroke=\"#000000\" d=\"M1817,-187C1817,-187 1720,-187 1720,-187 1714,-187 1708,-181 1708,-175 1708,-175 1708,-116 1708,-116 1708,-110 1714,-104 1720,-104 1720,-104 1817,-104 1817,-104 1823,-104 1829,-110 1829,-116 1829,-116 1829,-175 1829,-175 1829,-181 1823,-187 1817,-187\"/>\n<text text-anchor=\"middle\" x=\"1768.5\" y=\"-171.8\" font-family=\"Helvetica,sans-Serif\" font-size=\"14.00\" fill=\"#000000\">oldpeak &lt;= 1.95</text>\n<text text-anchor=\"middle\" x=\"1768.5\" y=\"-156.8\" font-family=\"Helvetica,sans-Serif\" font-size=\"14.00\" fill=\"#000000\">gini = 0.458</text>\n<text text-anchor=\"middle\" x=\"1768.5\" y=\"-141.8\" font-family=\"Helvetica,sans-Serif\" font-size=\"14.00\" fill=\"#000000\">samples = 31</text>\n<text text-anchor=\"middle\" x=\"1768.5\" y=\"-126.8\" font-family=\"Helvetica,sans-Serif\" font-size=\"14.00\" fill=\"#000000\">value = [11, 20]</text>\n<text text-anchor=\"middle\" x=\"1768.5\" y=\"-111.8\" font-family=\"Helvetica,sans-Serif\" font-size=\"14.00\" fill=\"#000000\">class = Yes</text>\n</g>\n<!-- 24&#45;&gt;28 -->\n<g id=\"edge28\" class=\"edge\">\n<title>24&#45;&gt;28</title>\n<path fill=\"none\" stroke=\"#000000\" d=\"M1646.1326,-224.212C1663.2484,-213.2024 1681.8925,-201.2097 1699.3495,-189.9806\"/>\n<polygon fill=\"#000000\" stroke=\"#000000\" points=\"1701.2952,-192.8907 1707.812,-184.5371 1697.5082,-187.0034 1701.2952,-192.8907\"/>\n</g>\n<!-- 26 -->\n<g id=\"node27\" class=\"node\">\n<title>26</title>\n<path fill=\"#e58139\" stroke=\"#000000\" d=\"M1568,-68C1568,-68 1493,-68 1493,-68 1487,-68 1481,-62 1481,-56 1481,-56 1481,-12 1481,-12 1481,-6 1487,0 1493,0 1493,0 1568,0 1568,0 1574,0 1580,-6 1580,-12 1580,-12 1580,-56 1580,-56 1580,-62 1574,-68 1568,-68\"/>\n<text text-anchor=\"middle\" x=\"1530.5\" y=\"-52.8\" font-family=\"Helvetica,sans-Serif\" font-size=\"14.00\" fill=\"#000000\">gini = 0.0</text>\n<text text-anchor=\"middle\" x=\"1530.5\" y=\"-37.8\" font-family=\"Helvetica,sans-Serif\" font-size=\"14.00\" fill=\"#000000\">samples = 7</text>\n<text text-anchor=\"middle\" x=\"1530.5\" y=\"-22.8\" font-family=\"Helvetica,sans-Serif\" font-size=\"14.00\" fill=\"#000000\">value = [7, 0]</text>\n<text text-anchor=\"middle\" x=\"1530.5\" y=\"-7.8\" font-family=\"Helvetica,sans-Serif\" font-size=\"14.00\" fill=\"#000000\">class = Yes</text>\n</g>\n<!-- 25&#45;&gt;26 -->\n<g id=\"edge26\" class=\"edge\">\n<title>25&#45;&gt;26</title>\n<path fill=\"none\" stroke=\"#000000\" d=\"M1563.7648,-103.9815C1559.6582,-95.3423 1555.3194,-86.2144 1551.1799,-77.5059\"/>\n<polygon fill=\"#000000\" stroke=\"#000000\" points=\"1554.2409,-75.7927 1546.7868,-68.2637 1547.9188,-78.7979 1554.2409,-75.7927\"/>\n</g>\n<!-- 27 -->\n<g id=\"node28\" class=\"node\">\n<title>27</title>\n<path fill=\"#399de5\" stroke=\"#000000\" d=\"M1685,-68C1685,-68 1610,-68 1610,-68 1604,-68 1598,-62 1598,-56 1598,-56 1598,-12 1598,-12 1598,-6 1604,0 1610,0 1610,0 1685,0 1685,0 1691,0 1697,-6 1697,-12 1697,-12 1697,-56 1697,-56 1697,-62 1691,-68 1685,-68\"/>\n<text text-anchor=\"middle\" x=\"1647.5\" y=\"-52.8\" font-family=\"Helvetica,sans-Serif\" font-size=\"14.00\" fill=\"#000000\">gini = 0.0</text>\n<text text-anchor=\"middle\" x=\"1647.5\" y=\"-37.8\" font-family=\"Helvetica,sans-Serif\" font-size=\"14.00\" fill=\"#000000\">samples = 1</text>\n<text text-anchor=\"middle\" x=\"1647.5\" y=\"-22.8\" font-family=\"Helvetica,sans-Serif\" font-size=\"14.00\" fill=\"#000000\">value = [0, 1]</text>\n<text text-anchor=\"middle\" x=\"1647.5\" y=\"-7.8\" font-family=\"Helvetica,sans-Serif\" font-size=\"14.00\" fill=\"#000000\">class = Yes</text>\n</g>\n<!-- 25&#45;&gt;27 -->\n<g id=\"edge27\" class=\"edge\">\n<title>25&#45;&gt;27</title>\n<path fill=\"none\" stroke=\"#000000\" d=\"M1607.3312,-103.9815C1612.3956,-95.1585 1617.7525,-85.8258 1622.8468,-76.9506\"/>\n<polygon fill=\"#000000\" stroke=\"#000000\" points=\"1625.8903,-78.6789 1627.833,-68.2637 1619.8193,-75.1942 1625.8903,-78.6789\"/>\n</g>\n<!-- 29 -->\n<g id=\"node30\" class=\"node\">\n<title>29</title>\n<path fill=\"#82c1ef\" stroke=\"#000000\" d=\"M1810,-68C1810,-68 1727,-68 1727,-68 1721,-68 1715,-62 1715,-56 1715,-56 1715,-12 1715,-12 1715,-6 1721,0 1727,0 1727,0 1810,0 1810,0 1816,0 1822,-6 1822,-12 1822,-12 1822,-56 1822,-56 1822,-62 1816,-68 1810,-68\"/>\n<text text-anchor=\"middle\" x=\"1768.5\" y=\"-52.8\" font-family=\"Helvetica,sans-Serif\" font-size=\"14.00\" fill=\"#000000\">gini = 0.393</text>\n<text text-anchor=\"middle\" x=\"1768.5\" y=\"-37.8\" font-family=\"Helvetica,sans-Serif\" font-size=\"14.00\" fill=\"#000000\">samples = 26</text>\n<text text-anchor=\"middle\" x=\"1768.5\" y=\"-22.8\" font-family=\"Helvetica,sans-Serif\" font-size=\"14.00\" fill=\"#000000\">value = [7, 19]</text>\n<text text-anchor=\"middle\" x=\"1768.5\" y=\"-7.8\" font-family=\"Helvetica,sans-Serif\" font-size=\"14.00\" fill=\"#000000\">class = Yes</text>\n</g>\n<!-- 28&#45;&gt;29 -->\n<g id=\"edge29\" class=\"edge\">\n<title>28&#45;&gt;29</title>\n<path fill=\"none\" stroke=\"#000000\" d=\"M1768.5,-103.9815C1768.5,-95.618 1768.5,-86.7965 1768.5,-78.3409\"/>\n<polygon fill=\"#000000\" stroke=\"#000000\" points=\"1772.0001,-78.2636 1768.5,-68.2637 1765.0001,-78.2637 1772.0001,-78.2636\"/>\n</g>\n<!-- 30 -->\n<g id=\"node31\" class=\"node\">\n<title>30</title>\n<path fill=\"#eca06a\" stroke=\"#000000\" d=\"M1927,-68C1927,-68 1852,-68 1852,-68 1846,-68 1840,-62 1840,-56 1840,-56 1840,-12 1840,-12 1840,-6 1846,0 1852,0 1852,0 1927,0 1927,0 1933,0 1939,-6 1939,-12 1939,-12 1939,-56 1939,-56 1939,-62 1933,-68 1927,-68\"/>\n<text text-anchor=\"middle\" x=\"1889.5\" y=\"-52.8\" font-family=\"Helvetica,sans-Serif\" font-size=\"14.00\" fill=\"#000000\">gini = 0.32</text>\n<text text-anchor=\"middle\" x=\"1889.5\" y=\"-37.8\" font-family=\"Helvetica,sans-Serif\" font-size=\"14.00\" fill=\"#000000\">samples = 5</text>\n<text text-anchor=\"middle\" x=\"1889.5\" y=\"-22.8\" font-family=\"Helvetica,sans-Serif\" font-size=\"14.00\" fill=\"#000000\">value = [4, 1]</text>\n<text text-anchor=\"middle\" x=\"1889.5\" y=\"-7.8\" font-family=\"Helvetica,sans-Serif\" font-size=\"14.00\" fill=\"#000000\">class = Yes</text>\n</g>\n<!-- 28&#45;&gt;30 -->\n<g id=\"edge30\" class=\"edge\">\n<title>28&#45;&gt;30</title>\n<path fill=\"none\" stroke=\"#000000\" d=\"M1813.5559,-103.9815C1823.7291,-94.607 1834.5267,-84.6572 1844.6898,-75.2921\"/>\n<polygon fill=\"#000000\" stroke=\"#000000\" points=\"1847.3349,-77.6141 1852.317,-68.2637 1842.5913,-72.4663 1847.3349,-77.6141\"/>\n</g>\n</g>\n</svg>\n"
          },
          "metadata": {
            "tags": []
          },
          "execution_count": 40
        }
      ]
    },
    {
      "cell_type": "markdown",
      "metadata": {
        "id": "ylOo21xc1Sx5"
      },
      "source": [
        "# **MODEL TUNING (HYPERPARAMETER)**"
      ]
    },
    {
      "cell_type": "code",
      "metadata": {
        "id": "ul8yiC0j1W8B"
      },
      "source": [
        "from sklearn.metrics import accuracy_score, confusion_matrix, classification_report\n",
        "\n",
        "def print_score(clf, X_train, y_train, X_test, y_test, train=True):\n",
        "    if train:\n",
        "        pred = clf.predict(X_train)\n",
        "        clf_report = pd.DataFrame(classification_report(y_train, pred, output_dict=True))\n",
        "        print(\"Train Result:\\n================================================\")\n",
        "        print(f\"Accuracy Score: {accuracy_score(y_train, pred) * 100:.2f}%\")\n",
        "        print(\"_______________________________________________\")\n",
        "        print(f\"CLASSIFICATION REPORT:\\n{clf_report}\")\n",
        "        print(\"_______________________________________________\")\n",
        "        print(f\"Confusion Matrix: \\n {confusion_matrix(y_train, pred)}\\n\")\n",
        "        \n",
        "    elif train==False:\n",
        "        pred = clf.predict(X_test)\n",
        "        clf_report = pd.DataFrame(classification_report(y_test, pred, output_dict=True))\n",
        "        print(\"Test Result:\\n================================================\")        \n",
        "        print(f\"Accuracy Score: {accuracy_score(y_test, pred) * 100:.2f}%\")\n",
        "        print(\"_______________________________________________\")\n",
        "        print(f\"CLASSIFICATION REPORT:\\n{clf_report}\")\n",
        "        print(\"_______________________________________________\")\n",
        "        print(f\"Confusion Matrix: \\n {confusion_matrix(y_test, pred)}\\n\")"
      ],
      "execution_count": 44,
      "outputs": []
    },
    {
      "cell_type": "markdown",
      "metadata": {
        "id": "N8m3EPm1BKY0"
      },
      "source": [
        "# **GRID SEARCH**"
      ]
    },
    {
      "cell_type": "code",
      "metadata": {
        "colab": {
          "base_uri": "https://localhost:8080/"
        },
        "id": "dmc2InBX1cUp",
        "outputId": "d57e8401-cc90-4978-a555-80deda767f6d"
      },
      "source": [
        "from sklearn.tree import DecisionTreeClassifier\n",
        "from sklearn.model_selection import GridSearchCV\n",
        "\n",
        "params = {\n",
        "    \"criterion\":(\"gini\", \"entropy\"), \n",
        "    \"splitter\":(\"best\", \"random\"), \n",
        "    \"max_depth\":(list(range(1, 20))), \n",
        "    \"min_samples_split\":[2, 3, 4], \n",
        "    \"min_samples_leaf\":list(range(1, 20)), \n",
        "}\n",
        "\n",
        " \n",
        "tree_clf = DecisionTreeClassifier(random_state=42)\n",
        "tree_cv = GridSearchCV(tree_clf, params, scoring=\"accuracy\", n_jobs=-1, verbose=1, cv=3)\n",
        "tree_cv.fit(X_train, y_train)\n",
        "best_params = tree_cv.best_params_\n",
        "print(f\"Best paramters: {best_params})\")\n",
        "\n",
        "tree_clf = DecisionTreeClassifier(**best_params)\n",
        "tree_clf.fit(X_train, y_train)\n",
        "print_score(tree_clf, X_train, y_train, X_test, y_test, train=True)\n",
        "print_score(tree_clf, X_train, y_train, X_test, y_test, train=False)"
      ],
      "execution_count": 46,
      "outputs": [
        {
          "output_type": "stream",
          "text": [
            "Fitting 3 folds for each of 4332 candidates, totalling 12996 fits\n"
          ],
          "name": "stdout"
        },
        {
          "output_type": "stream",
          "text": [
            "[Parallel(n_jobs=-1)]: Using backend LokyBackend with 2 concurrent workers.\n",
            "[Parallel(n_jobs=-1)]: Done 584 tasks      | elapsed:    3.1s\n",
            "[Parallel(n_jobs=-1)]: Done 5384 tasks      | elapsed:   16.7s\n"
          ],
          "name": "stderr"
        },
        {
          "output_type": "stream",
          "text": [
            "Best paramters: {'criterion': 'gini', 'max_depth': 4, 'min_samples_leaf': 1, 'min_samples_split': 2, 'splitter': 'random'})\n",
            "Train Result:\n",
            "================================================\n",
            "Accuracy Score: 86.36%\n",
            "_______________________________________________\n",
            "CLASSIFICATION REPORT:\n",
            "                    0           1  accuracy   macro avg  weighted avg\n",
            "precision    0.872549    0.857143  0.863636    0.864846      0.864082\n",
            "recall       0.816514    0.902256  0.863636    0.859385      0.863636\n",
            "f1-score     0.843602    0.879121  0.863636    0.861361      0.863123\n",
            "support    109.000000  133.000000  0.863636  242.000000    242.000000\n",
            "_______________________________________________\n",
            "Confusion Matrix: \n",
            " [[ 89  20]\n",
            " [ 13 120]]\n",
            "\n",
            "Test Result:\n",
            "================================================\n",
            "Accuracy Score: 78.69%\n",
            "_______________________________________________\n",
            "CLASSIFICATION REPORT:\n",
            "                   0          1  accuracy  macro avg  weighted avg\n",
            "precision   0.833333   0.756757  0.786885   0.795045      0.793162\n",
            "recall      0.689655   0.875000  0.786885   0.782328      0.786885\n",
            "f1-score    0.754717   0.811594  0.786885   0.783156      0.784554\n",
            "support    29.000000  32.000000  0.786885  61.000000     61.000000\n",
            "_______________________________________________\n",
            "Confusion Matrix: \n",
            " [[20  9]\n",
            " [ 4 28]]\n",
            "\n"
          ],
          "name": "stdout"
        },
        {
          "output_type": "stream",
          "text": [
            "[Parallel(n_jobs=-1)]: Done 12978 tasks      | elapsed:   38.2s\n",
            "[Parallel(n_jobs=-1)]: Done 12993 out of 12996 | elapsed:   38.2s remaining:    0.0s\n",
            "[Parallel(n_jobs=-1)]: Done 12996 out of 12996 | elapsed:   38.2s finished\n"
          ],
          "name": "stderr"
        }
      ]
    },
    {
      "cell_type": "markdown",
      "metadata": {
        "id": "6akcHGaR2AmV"
      },
      "source": [
        "# **RANDOM FOREST**"
      ]
    },
    {
      "cell_type": "markdown",
      "metadata": {
        "id": "xekgY5qK2TI5"
      },
      "source": [
        "# **SETUP**"
      ]
    },
    {
      "cell_type": "code",
      "metadata": {
        "id": "zJhaiBT02Cop"
      },
      "source": [
        "# Python ≥3.5 is required\n",
        "import sys\n",
        "assert sys.version_info >= (3, 5)\n",
        "\n",
        "# Scikit-Learn ≥0.20 is required\n",
        "import sklearn\n",
        "assert sklearn.__version__ >= \"0.20\"\n",
        "\n",
        "# Common imports\n",
        "import numpy as np\n",
        "import os\n",
        "\n",
        "# to make this notebook's output stable across runs\n",
        "np.random.seed(42)\n",
        "\n",
        "# To plot pretty figures\n",
        "%matplotlib inline\n",
        "import matplotlib as mpl\n",
        "import matplotlib.pyplot as plt\n",
        "mpl.rc('axes', labelsize=14)\n",
        "mpl.rc('xtick', labelsize=12)\n",
        "mpl.rc('ytick', labelsize=12)\n",
        "\n",
        "# Where to save the figures\n",
        "PROJECT_ROOT_DIR = \".\"\n",
        "CHAPTER_ID = \"ensembles\"\n",
        "IMAGES_PATH = os.path.join(PROJECT_ROOT_DIR, \"images\", CHAPTER_ID)\n",
        "os.makedirs(IMAGES_PATH, exist_ok=True)\n",
        "\n",
        "def save_fig(fig_id, tight_layout=True, fig_extension=\"png\", resolution=300):\n",
        "    path = os.path.join(IMAGES_PATH, fig_id + \".\" + fig_extension)\n",
        "    print(\"Saving figure\", fig_id)\n",
        "    if tight_layout:\n",
        "        plt.tight_layout()\n",
        "    plt.savefig(path, format=fig_extension, dpi=resolution)"
      ],
      "execution_count": 47,
      "outputs": []
    },
    {
      "cell_type": "markdown",
      "metadata": {
        "id": "m7CFuNtV205N"
      },
      "source": [
        "# **BAGGING**"
      ]
    },
    {
      "cell_type": "code",
      "metadata": {
        "id": "PNOLxWbm2o_g"
      },
      "source": [
        "from sklearn.ensemble import RandomForestClassifier, BaggingClassifier"
      ],
      "execution_count": 49,
      "outputs": []
    },
    {
      "cell_type": "code",
      "metadata": {
        "id": "mIjeNs0D2Wwn"
      },
      "source": [
        "bag_clf = BaggingClassifier(\n",
        "    DecisionTreeClassifier(max_features=\"sqrt\", max_leaf_nodes=16),\n",
        "    n_estimators=300, random_state=54)"
      ],
      "execution_count": 51,
      "outputs": []
    },
    {
      "cell_type": "code",
      "metadata": {
        "id": "6_tRY0Vc2xe4"
      },
      "source": [
        "bag_clf.fit(X_train, y_train)\n",
        "y_pred = bag_clf.predict(X_test)"
      ],
      "execution_count": 52,
      "outputs": []
    },
    {
      "cell_type": "markdown",
      "metadata": {
        "id": "U4W8rleH3Mwx"
      },
      "source": [
        "# **CLASSIFIER**"
      ]
    },
    {
      "cell_type": "code",
      "metadata": {
        "id": "qxvIUyli26Jl"
      },
      "source": [
        "from sklearn.ensemble import RandomForestClassifier\n",
        "\n",
        "rnd_clf = RandomForestClassifier(n_estimators=500, max_leaf_nodes=16, random_state=42)\n",
        "rnd_clf.fit(X_train, y_train)\n",
        "\n",
        "y_pred_rf = rnd_clf.predict(X_test)"
      ],
      "execution_count": 53,
      "outputs": []
    },
    {
      "cell_type": "code",
      "metadata": {
        "colab": {
          "base_uri": "https://localhost:8080/"
        },
        "id": "xI36_XHk3AOP",
        "outputId": "2f5db513-0e28-4a4f-c015-5bf3b227958e"
      },
      "source": [
        "np.sum(y_pred == y_pred_rf) / len(y_pred)"
      ],
      "execution_count": 54,
      "outputs": [
        {
          "output_type": "execute_result",
          "data": {
            "text/plain": [
              "1.0"
            ]
          },
          "metadata": {
            "tags": []
          },
          "execution_count": 54
        }
      ]
    },
    {
      "cell_type": "code",
      "metadata": {
        "colab": {
          "base_uri": "https://localhost:8080/"
        },
        "id": "EiMCegGW3KOS",
        "outputId": "76aca6c8-3474-4d62-df3f-3fbdc35d9d02"
      },
      "source": [
        "from sklearn.datasets import load_iris\n",
        "iris = load_iris()\n",
        "rnd_clf = RandomForestClassifier(n_estimators=500, random_state=42)\n",
        "rnd_clf.fit(iris[\"data\"], iris[\"target\"])\n",
        "for name, score in zip(iris[\"feature_names\"], rnd_clf.feature_importances_):\n",
        "    print(name, score)"
      ],
      "execution_count": 55,
      "outputs": [
        {
          "output_type": "stream",
          "text": [
            "sepal length (cm) 0.11249225099876375\n",
            "sepal width (cm) 0.02311928828251033\n",
            "petal length (cm) 0.4410304643639577\n",
            "petal width (cm) 0.4233579963547682\n"
          ],
          "name": "stdout"
        }
      ]
    },
    {
      "cell_type": "code",
      "metadata": {
        "colab": {
          "base_uri": "https://localhost:8080/"
        },
        "id": "j0Xf9wYS3USV",
        "outputId": "01a161b9-c8ed-46d0-efae-0650dab4e4a0"
      },
      "source": [
        "rnd_clf.feature_importances_"
      ],
      "execution_count": 56,
      "outputs": [
        {
          "output_type": "execute_result",
          "data": {
            "text/plain": [
              "array([0.11249225, 0.02311929, 0.44103046, 0.423358  ])"
            ]
          },
          "metadata": {
            "tags": []
          },
          "execution_count": 56
        }
      ]
    },
    {
      "cell_type": "markdown",
      "metadata": {
        "id": "xPY40PGI4tvz"
      },
      "source": [
        "# **OUT OF BAG EVALUATION**"
      ]
    },
    {
      "cell_type": "code",
      "metadata": {
        "colab": {
          "base_uri": "https://localhost:8080/"
        },
        "id": "hjHArWsq4we3",
        "outputId": "3e91a08c-2554-4c83-87ba-509f7f2e3c33"
      },
      "source": [
        "bag_clf = BaggingClassifier(\n",
        "    DecisionTreeClassifier(), n_estimators=500,\n",
        "    bootstrap=True, oob_score=True, random_state=40)\n",
        "bag_clf.fit(X_train, y_train)\n",
        "bag_clf.oob_score_"
      ],
      "execution_count": 64,
      "outputs": [
        {
          "output_type": "execute_result",
          "data": {
            "text/plain": [
              "0.7933884297520661"
            ]
          },
          "metadata": {
            "tags": []
          },
          "execution_count": 64
        }
      ]
    },
    {
      "cell_type": "code",
      "metadata": {
        "colab": {
          "base_uri": "https://localhost:8080/"
        },
        "id": "DWvuHbII4zmU",
        "outputId": "9e165543-ec55-457e-897d-5927d374f7c0"
      },
      "source": [
        "bag_clf.oob_decision_function_"
      ],
      "execution_count": 65,
      "outputs": [
        {
          "output_type": "execute_result",
          "data": {
            "text/plain": [
              "array([[0.04615385, 0.95384615],\n",
              "       [0.71351351, 0.28648649],\n",
              "       [0.05789474, 0.94210526],\n",
              "       [0.34782609, 0.65217391],\n",
              "       [0.85561497, 0.14438503],\n",
              "       [0.98203593, 0.01796407],\n",
              "       [0.2748538 , 0.7251462 ],\n",
              "       [0.73737374, 0.26262626],\n",
              "       [0.71505376, 0.28494624],\n",
              "       [0.95454545, 0.04545455],\n",
              "       [0.52459016, 0.47540984],\n",
              "       [0.48756219, 0.51243781],\n",
              "       [0.05555556, 0.94444444],\n",
              "       [0.10227273, 0.89772727],\n",
              "       [0.83695652, 0.16304348],\n",
              "       [0.63276836, 0.36723164],\n",
              "       [0.21925134, 0.78074866],\n",
              "       [0.05235602, 0.94764398],\n",
              "       [0.81547619, 0.18452381],\n",
              "       [0.70718232, 0.29281768],\n",
              "       [0.02531646, 0.97468354],\n",
              "       [0.23267327, 0.76732673],\n",
              "       [0.28723404, 0.71276596],\n",
              "       [0.92227979, 0.07772021],\n",
              "       [0.90909091, 0.09090909],\n",
              "       [0.95833333, 0.04166667],\n",
              "       [0.71084337, 0.28915663],\n",
              "       [0.74626866, 0.25373134],\n",
              "       [0.65957447, 0.34042553],\n",
              "       [0.89130435, 0.10869565],\n",
              "       [0.00995025, 0.99004975],\n",
              "       [0.90860215, 0.09139785],\n",
              "       [1.        , 0.        ],\n",
              "       [0.03225806, 0.96774194],\n",
              "       [0.99484536, 0.00515464],\n",
              "       [0.66829268, 0.33170732],\n",
              "       [0.00507614, 0.99492386],\n",
              "       [0.8908046 , 0.1091954 ],\n",
              "       [0.18848168, 0.81151832],\n",
              "       [0.47513812, 0.52486188],\n",
              "       [0.85427136, 0.14572864],\n",
              "       [0.13736264, 0.86263736],\n",
              "       [0.03888889, 0.96111111],\n",
              "       [0.34574468, 0.65425532],\n",
              "       [0.73333333, 0.26666667],\n",
              "       [0.91534392, 0.08465608],\n",
              "       [0.19393939, 0.80606061],\n",
              "       [0.315     , 0.685     ],\n",
              "       [0.65408805, 0.34591195],\n",
              "       [0.36363636, 0.63636364],\n",
              "       [0.67977528, 0.32022472],\n",
              "       [0.        , 1.        ],\n",
              "       [0.84795322, 0.15204678],\n",
              "       [0.65240642, 0.34759358],\n",
              "       [0.96373057, 0.03626943],\n",
              "       [0.37804878, 0.62195122],\n",
              "       [0.86956522, 0.13043478],\n",
              "       [0.4972067 , 0.5027933 ],\n",
              "       [0.58682635, 0.41317365],\n",
              "       [0.97311828, 0.02688172],\n",
              "       [0.06435644, 0.93564356],\n",
              "       [0.6300578 , 0.3699422 ],\n",
              "       [0.52331606, 0.47668394],\n",
              "       [1.        , 0.        ],\n",
              "       [0.95348837, 0.04651163],\n",
              "       [0.50746269, 0.49253731],\n",
              "       [0.22905028, 0.77094972],\n",
              "       [0.26595745, 0.73404255],\n",
              "       [0.64367816, 0.35632184],\n",
              "       [0.53714286, 0.46285714],\n",
              "       [0.02857143, 0.97142857],\n",
              "       [0.21081081, 0.78918919],\n",
              "       [0.29891304, 0.70108696],\n",
              "       [0.38235294, 0.61764706],\n",
              "       [0.10465116, 0.89534884],\n",
              "       [0.19018405, 0.80981595],\n",
              "       [0.86111111, 0.13888889],\n",
              "       [0.37704918, 0.62295082],\n",
              "       [0.70588235, 0.29411765],\n",
              "       [0.86734694, 0.13265306],\n",
              "       [0.01612903, 0.98387097],\n",
              "       [0.44025157, 0.55974843],\n",
              "       [0.42045455, 0.57954545],\n",
              "       [0.26315789, 0.73684211],\n",
              "       [0.01639344, 0.98360656],\n",
              "       [0.18579235, 0.81420765],\n",
              "       [0.6440678 , 0.3559322 ],\n",
              "       [0.01069519, 0.98930481],\n",
              "       [0.95757576, 0.04242424],\n",
              "       [0.93037975, 0.06962025],\n",
              "       [0.27979275, 0.72020725],\n",
              "       [0.20526316, 0.79473684],\n",
              "       [0.32984293, 0.67015707],\n",
              "       [0.89528796, 0.10471204],\n",
              "       [0.97916667, 0.02083333],\n",
              "       [0.01538462, 0.98461538],\n",
              "       [0.30808081, 0.69191919],\n",
              "       [0.07692308, 0.92307692],\n",
              "       [0.57142857, 0.42857143],\n",
              "       [0.38613861, 0.61386139],\n",
              "       [0.05913978, 0.94086022],\n",
              "       [0.        , 1.        ],\n",
              "       [0.        , 1.        ],\n",
              "       [0.56451613, 0.43548387],\n",
              "       [0.59685864, 0.40314136],\n",
              "       [0.66169154, 0.33830846],\n",
              "       [0.        , 1.        ],\n",
              "       [0.98324022, 0.01675978],\n",
              "       [0.21827411, 0.78172589],\n",
              "       [0.34010152, 0.65989848],\n",
              "       [0.50595238, 0.49404762],\n",
              "       [0.9760479 , 0.0239521 ],\n",
              "       [0.22777778, 0.77222222],\n",
              "       [0.67647059, 0.32352941],\n",
              "       [0.05050505, 0.94949495],\n",
              "       [0.76      , 0.24      ],\n",
              "       [0.02234637, 0.97765363],\n",
              "       [0.14720812, 0.85279188],\n",
              "       [0.63829787, 0.36170213],\n",
              "       [0.64634146, 0.35365854],\n",
              "       [0.30813953, 0.69186047],\n",
              "       [0.57777778, 0.42222222],\n",
              "       [0.15789474, 0.84210526],\n",
              "       [0.15789474, 0.84210526],\n",
              "       [0.06077348, 0.93922652],\n",
              "       [0.78857143, 0.21142857],\n",
              "       [0.08092486, 0.91907514],\n",
              "       [0.65968586, 0.34031414],\n",
              "       [0.3045977 , 0.6954023 ],\n",
              "       [0.        , 1.        ],\n",
              "       [0.94252874, 0.05747126],\n",
              "       [0.01522843, 0.98477157],\n",
              "       [0.02512563, 0.97487437],\n",
              "       [0.80555556, 0.19444444],\n",
              "       [0.235     , 0.765     ],\n",
              "       [0.1827957 , 0.8172043 ],\n",
              "       [0.04864865, 0.95135135],\n",
              "       [0.38095238, 0.61904762],\n",
              "       [0.96666667, 0.03333333],\n",
              "       [0.90625   , 0.09375   ],\n",
              "       [0.00518135, 0.99481865],\n",
              "       [0.08994709, 0.91005291],\n",
              "       [0.14835165, 0.85164835],\n",
              "       [0.7797619 , 0.2202381 ],\n",
              "       [0.81407035, 0.18592965],\n",
              "       [0.385     , 0.615     ],\n",
              "       [0.83333333, 0.16666667],\n",
              "       [0.97058824, 0.02941176],\n",
              "       [0.02247191, 0.97752809],\n",
              "       [0.64      , 0.36      ],\n",
              "       [0.31111111, 0.68888889],\n",
              "       [0.08791209, 0.91208791],\n",
              "       [0.04545455, 0.95454545],\n",
              "       [0.69230769, 0.30769231],\n",
              "       [0.86956522, 0.13043478],\n",
              "       [0.8972973 , 0.1027027 ],\n",
              "       [0.51530612, 0.48469388],\n",
              "       [0.34042553, 0.65957447],\n",
              "       [0.90425532, 0.09574468],\n",
              "       [0.51351351, 0.48648649],\n",
              "       [0.19607843, 0.80392157],\n",
              "       [0.73595506, 0.26404494],\n",
              "       [0.9       , 0.1       ],\n",
              "       [0.9673913 , 0.0326087 ],\n",
              "       [0.96335079, 0.03664921],\n",
              "       [0.21264368, 0.78735632],\n",
              "       [0.94240838, 0.05759162],\n",
              "       [0.2565445 , 0.7434555 ],\n",
              "       [0.46632124, 0.53367876],\n",
              "       [0.95808383, 0.04191617],\n",
              "       [0.43157895, 0.56842105],\n",
              "       [0.00613497, 0.99386503],\n",
              "       [0.25423729, 0.74576271],\n",
              "       [0.39226519, 0.60773481],\n",
              "       [0.0755814 , 0.9244186 ],\n",
              "       [0.76836158, 0.23163842],\n",
              "       [0.24456522, 0.75543478],\n",
              "       [0.796875  , 0.203125  ],\n",
              "       [0.43712575, 0.56287425],\n",
              "       [0.66      , 0.34      ],\n",
              "       [0.47252747, 0.52747253],\n",
              "       [1.        , 0.        ],\n",
              "       [0.32673267, 0.67326733],\n",
              "       [0.        , 1.        ],\n",
              "       [0.43478261, 0.56521739],\n",
              "       [0.29090909, 0.70909091],\n",
              "       [0.09473684, 0.90526316],\n",
              "       [0.09895833, 0.90104167],\n",
              "       [0.97590361, 0.02409639],\n",
              "       [0.83248731, 0.16751269],\n",
              "       [0.02272727, 0.97727273],\n",
              "       [0.20725389, 0.79274611],\n",
              "       [0.        , 1.        ],\n",
              "       [0.03333333, 0.96666667],\n",
              "       [0.30569948, 0.69430052],\n",
              "       [0.60204082, 0.39795918],\n",
              "       [0.92896175, 0.07103825],\n",
              "       [0.02352941, 0.97647059],\n",
              "       [0.98984772, 0.01015228],\n",
              "       [0.1452514 , 0.8547486 ],\n",
              "       [0.54237288, 0.45762712],\n",
              "       [0.24456522, 0.75543478],\n",
              "       [0.19895288, 0.80104712],\n",
              "       [0.38888889, 0.61111111],\n",
              "       [0.23668639, 0.76331361],\n",
              "       [0.15508021, 0.84491979],\n",
              "       [0.01724138, 0.98275862],\n",
              "       [0.06666667, 0.93333333],\n",
              "       [0.95906433, 0.04093567],\n",
              "       [0.15425532, 0.84574468],\n",
              "       [0.03278689, 0.96721311],\n",
              "       [0.13567839, 0.86432161],\n",
              "       [0.17112299, 0.82887701],\n",
              "       [0.24861878, 0.75138122],\n",
              "       [0.0974359 , 0.9025641 ],\n",
              "       [0.74025974, 0.25974026],\n",
              "       [0.01604278, 0.98395722],\n",
              "       [0.03448276, 0.96551724],\n",
              "       [0.16923077, 0.83076923],\n",
              "       [0.05084746, 0.94915254],\n",
              "       [0.27272727, 0.72727273],\n",
              "       [0.88764045, 0.11235955],\n",
              "       [0.02702703, 0.97297297],\n",
              "       [0.97959184, 0.02040816],\n",
              "       [0.08045977, 0.91954023],\n",
              "       [0.90860215, 0.09139785],\n",
              "       [0.27950311, 0.72049689],\n",
              "       [0.08287293, 0.91712707],\n",
              "       [0.83606557, 0.16393443],\n",
              "       [0.2361809 , 0.7638191 ],\n",
              "       [0.28804348, 0.71195652],\n",
              "       [0.93193717, 0.06806283],\n",
              "       [0.33513514, 0.66486486],\n",
              "       [0.48704663, 0.51295337],\n",
              "       [0.1969697 , 0.8030303 ],\n",
              "       [0.14942529, 0.85057471],\n",
              "       [0.14857143, 0.85142857],\n",
              "       [0.33136095, 0.66863905],\n",
              "       [0.91534392, 0.08465608],\n",
              "       [0.49122807, 0.50877193],\n",
              "       [0.58241758, 0.41758242],\n",
              "       [0.49717514, 0.50282486]])"
            ]
          },
          "metadata": {
            "tags": []
          },
          "execution_count": 65
        }
      ]
    },
    {
      "cell_type": "markdown",
      "metadata": {
        "id": "FPGoE7vwC7KX"
      },
      "source": [
        "# **MODEL SCORES (EVALUATION)**"
      ]
    },
    {
      "cell_type": "code",
      "metadata": {
        "colab": {
          "base_uri": "https://localhost:8080/"
        },
        "id": "X_KFGuaO46d-",
        "outputId": "8decfa0d-9c4a-4d56-a136-34cb04bd227d"
      },
      "source": [
        "from sklearn.metrics import accuracy_score\n",
        "y_pred = bag_clf.predict(X_test)\n",
        "accuracy_score(y_test, y_pred)"
      ],
      "execution_count": 82,
      "outputs": [
        {
          "output_type": "execute_result",
          "data": {
            "text/plain": [
              "0.8524590163934426"
            ]
          },
          "metadata": {
            "tags": []
          },
          "execution_count": 82
        }
      ]
    },
    {
      "cell_type": "code",
      "metadata": {
        "colab": {
          "base_uri": "https://localhost:8080/"
        },
        "id": "ndfAbG9j5UOp",
        "outputId": "1322eb24-7f58-4bd7-c465-fb5cd1d53473"
      },
      "source": [
        "from sklearn.ensemble import RandomForestClassifier\n",
        "\n",
        "rf_clf = RandomForestClassifier(n_estimators=100)\n",
        "rf_clf.fit(X_train, y_train)\n",
        "\n",
        "print_score(rf_clf, X_train, y_train, X_test, y_test, train=True)\n",
        "print_score(rf_clf, X_train, y_train, X_test, y_test, train=False)"
      ],
      "execution_count": 68,
      "outputs": [
        {
          "output_type": "stream",
          "text": [
            "Train Result:\n",
            "================================================\n",
            "Accuracy Score: 100.00%\n",
            "_______________________________________________\n",
            "CLASSIFICATION REPORT:\n",
            "               0      1  accuracy  macro avg  weighted avg\n",
            "precision    1.0    1.0       1.0        1.0           1.0\n",
            "recall       1.0    1.0       1.0        1.0           1.0\n",
            "f1-score     1.0    1.0       1.0        1.0           1.0\n",
            "support    109.0  133.0       1.0      242.0         242.0\n",
            "_______________________________________________\n",
            "Confusion Matrix: \n",
            " [[109   0]\n",
            " [  0 133]]\n",
            "\n",
            "Test Result:\n",
            "================================================\n",
            "Accuracy Score: 86.89%\n",
            "_______________________________________________\n",
            "CLASSIFICATION REPORT:\n",
            "                   0          1  accuracy  macro avg  weighted avg\n",
            "precision   0.920000   0.833333  0.868852   0.876667      0.874536\n",
            "recall      0.793103   0.937500  0.868852   0.865302      0.868852\n",
            "f1-score    0.851852   0.882353  0.868852   0.867102      0.867852\n",
            "support    29.000000  32.000000  0.868852  61.000000     61.000000\n",
            "_______________________________________________\n",
            "Confusion Matrix: \n",
            " [[23  6]\n",
            " [ 2 30]]\n",
            "\n"
          ],
          "name": "stdout"
        }
      ]
    },
    {
      "cell_type": "markdown",
      "metadata": {
        "id": "_P8YRN8D5irC"
      },
      "source": [
        "# **MODEL TUNING (HYPERPARAMETER)**"
      ]
    },
    {
      "cell_type": "code",
      "metadata": {
        "colab": {
          "base_uri": "https://localhost:8080/"
        },
        "id": "L7awmr-95upz",
        "outputId": "28f3a917-c41d-4c1c-9908-441ba70e0055"
      },
      "source": [
        "from sklearn.ensemble import RandomForestClassifier\n",
        "from sklearn.model_selection import RandomizedSearchCV\n",
        "\n",
        "n_estimators = [int(x) for x in np.linspace(start=200, stop=2000, num=10)]\n",
        "max_features = ['auto', 'sqrt']\n",
        "max_depth = [int(x) for x in np.linspace(10, 110, num=11)]\n",
        "max_depth.append(None)\n",
        "min_samples_split = [2, 5, 10]\n",
        "min_samples_leaf = [1, 2, 4]\n",
        "bootstrap = [True, False]\n",
        "\n",
        "random_grid = {'n_estimators': n_estimators, 'max_features': max_features,\n",
        "               'max_depth': max_depth, 'min_samples_split': min_samples_split,\n",
        "               'min_samples_leaf': min_samples_leaf, 'bootstrap': bootstrap}\n",
        "\n",
        "rf_clf = RandomForestClassifier(random_state=42)\n",
        "\n",
        "rf_cv = RandomizedSearchCV(estimator=rf_clf, scoring='f1',param_distributions=random_grid, n_iter=100, cv=3, \n",
        "                               verbose=2, random_state=42, n_jobs=-1)\n",
        "\n",
        "rf_cv.fit(X_train, y_train)\n",
        "rf_best_params = rf_cv.best_params_\n",
        "print(f\"Best paramters: {rf_best_params})\")\n",
        "\n",
        "rf_clf = RandomForestClassifier(**rf_best_params)\n",
        "rf_clf.fit(X_train, y_train)\n",
        "\n",
        "print_score(rf_clf, X_train, y_train, X_test, y_test, train=True)\n",
        "print_score(rf_clf, X_train, y_train, X_test, y_test, train=False)"
      ],
      "execution_count": 69,
      "outputs": [
        {
          "output_type": "stream",
          "text": [
            "Fitting 3 folds for each of 100 candidates, totalling 300 fits\n"
          ],
          "name": "stdout"
        },
        {
          "output_type": "stream",
          "text": [
            "[Parallel(n_jobs=-1)]: Using backend LokyBackend with 2 concurrent workers.\n",
            "[Parallel(n_jobs=-1)]: Done  37 tasks      | elapsed:   47.4s\n",
            "[Parallel(n_jobs=-1)]: Done 158 tasks      | elapsed:  3.2min\n",
            "[Parallel(n_jobs=-1)]: Done 300 out of 300 | elapsed:  6.1min finished\n"
          ],
          "name": "stderr"
        },
        {
          "output_type": "stream",
          "text": [
            "Best paramters: {'n_estimators': 200, 'min_samples_split': 5, 'min_samples_leaf': 4, 'max_features': 'auto', 'max_depth': 10, 'bootstrap': True})\n",
            "Train Result:\n",
            "================================================\n",
            "Accuracy Score: 91.74%\n",
            "_______________________________________________\n",
            "CLASSIFICATION REPORT:\n",
            "                    0           1  accuracy   macro avg  weighted avg\n",
            "precision    0.932039    0.906475  0.917355    0.919257      0.917989\n",
            "recall       0.880734    0.947368  0.917355    0.914051      0.917355\n",
            "f1-score     0.905660    0.926471  0.917355    0.916065      0.917097\n",
            "support    109.000000  133.000000  0.917355  242.000000    242.000000\n",
            "_______________________________________________\n",
            "Confusion Matrix: \n",
            " [[ 96  13]\n",
            " [  7 126]]\n",
            "\n",
            "Test Result:\n",
            "================================================\n",
            "Accuracy Score: 86.89%\n",
            "_______________________________________________\n",
            "CLASSIFICATION REPORT:\n",
            "                   0          1  accuracy  macro avg  weighted avg\n",
            "precision   0.956522   0.815789  0.868852   0.886156      0.882695\n",
            "recall      0.758621   0.968750  0.868852   0.863685      0.868852\n",
            "f1-score    0.846154   0.885714  0.868852   0.865934      0.866907\n",
            "support    29.000000  32.000000  0.868852  61.000000     61.000000\n",
            "_______________________________________________\n",
            "Confusion Matrix: \n",
            " [[22  7]\n",
            " [ 1 31]]\n",
            "\n"
          ],
          "name": "stdout"
        }
      ]
    },
    {
      "cell_type": "markdown",
      "metadata": {
        "id": "r1fZ7-jrBOqa"
      },
      "source": [
        "# **GRID SEARCH**"
      ]
    },
    {
      "cell_type": "code",
      "metadata": {
        "colab": {
          "base_uri": "https://localhost:8080/"
        },
        "id": "w6tGcNXL71rV",
        "outputId": "b168ba21-fde7-4540-b9d3-01f2e4a18a10"
      },
      "source": [
        "n_estimators = [100, 300]\n",
        "max_features = ['auto', 'sqrt']\n",
        "max_depth = [3, 5]\n",
        "max_depth.append(None)\n",
        "min_samples_split = [2, 5]\n",
        "min_samples_leaf = [1, 2, 4]\n",
        "bootstrap = [True, False]\n",
        "\n",
        "params_grid = {'n_estimators': n_estimators, 'max_features': max_features,\n",
        "               'max_depth': max_depth, 'min_samples_split': min_samples_split,\n",
        "               'min_samples_leaf': min_samples_leaf, 'bootstrap': bootstrap}\n",
        "\n",
        "rf_clf = RandomForestClassifier(random_state=42)\n",
        "\n",
        "rf_cv = GridSearchCV(rf_clf, params_grid, scoring=\"f1\", cv=3, verbose=2, n_jobs=-1)\n",
        "\n",
        "\n",
        "rf_cv.fit(X_train, y_train)\n",
        "best_params = rf_cv.best_params_\n",
        "print(f\"Best parameters: {best_params}\")\n",
        "\n",
        "rf_clf = RandomForestClassifier(**best_params)\n",
        "rf_clf.fit(X_train, y_train)\n",
        "\n",
        "print_score(rf_clf, X_train, y_train, X_test, y_test, train=True)\n",
        "print_score(rf_clf, X_train, y_train, X_test, y_test, train=False)"
      ],
      "execution_count": 70,
      "outputs": [
        {
          "output_type": "stream",
          "text": [
            "Fitting 3 folds for each of 144 candidates, totalling 432 fits\n"
          ],
          "name": "stdout"
        },
        {
          "output_type": "stream",
          "text": [
            "[Parallel(n_jobs=-1)]: Using backend LokyBackend with 2 concurrent workers.\n",
            "[Parallel(n_jobs=-1)]: Done  37 tasks      | elapsed:    9.1s\n",
            "[Parallel(n_jobs=-1)]: Done 158 tasks      | elapsed:   39.2s\n",
            "[Parallel(n_jobs=-1)]: Done 361 tasks      | elapsed:  1.4min\n",
            "[Parallel(n_jobs=-1)]: Done 432 out of 432 | elapsed:  1.6min finished\n"
          ],
          "name": "stderr"
        },
        {
          "output_type": "stream",
          "text": [
            "Best parameters: {'bootstrap': True, 'max_depth': 3, 'max_features': 'auto', 'min_samples_leaf': 1, 'min_samples_split': 2, 'n_estimators': 100}\n",
            "Train Result:\n",
            "================================================\n",
            "Accuracy Score: 86.78%\n",
            "_______________________________________________\n",
            "CLASSIFICATION REPORT:\n",
            "                    0           1  accuracy   macro avg  weighted avg\n",
            "precision    0.905263    0.843537  0.867769    0.874400      0.871340\n",
            "recall       0.788991    0.932331  0.867769    0.860661      0.867769\n",
            "f1-score     0.843137    0.885714  0.867769    0.864426      0.866537\n",
            "support    109.000000  133.000000  0.867769  242.000000    242.000000\n",
            "_______________________________________________\n",
            "Confusion Matrix: \n",
            " [[ 86  23]\n",
            " [  9 124]]\n",
            "\n",
            "Test Result:\n",
            "================================================\n",
            "Accuracy Score: 85.25%\n",
            "_______________________________________________\n",
            "CLASSIFICATION REPORT:\n",
            "                   0          1  accuracy  macro avg  weighted avg\n",
            "precision   0.954545   0.794872  0.852459   0.874709      0.870782\n",
            "recall      0.724138   0.968750  0.852459   0.846444      0.852459\n",
            "f1-score    0.823529   0.873239  0.852459   0.848384      0.849607\n",
            "support    29.000000  32.000000  0.852459  61.000000     61.000000\n",
            "_______________________________________________\n",
            "Confusion Matrix: \n",
            " [[21  8]\n",
            " [ 1 31]]\n",
            "\n"
          ],
          "name": "stdout"
        }
      ]
    },
    {
      "cell_type": "markdown",
      "metadata": {
        "id": "YMla9W_7EfHI"
      },
      "source": [
        "# **MODEL ANALYSIS**"
      ]
    },
    {
      "cell_type": "markdown",
      "metadata": {
        "id": "XCBLRrvOEiQK"
      },
      "source": [
        "Setelah dilakukan training data dan testing data pada model decision tree dan random forest dapat disimpulkan bahwa\n",
        "\n",
        "*   Model Decision Tree menghasilkan akurasi score training sebesar 0.8595 dan akurasi score testing sebesar 0.9016\n",
        "*   Pada hasil tuning hyperparameter model decision tree dihasilkan akurasi score training sebesar 86.36% dan akurasi score testing sebesar 78.69%\n",
        "\n",
        "*   Hasil akurasi score testing pada model decision tree dan model tuning decision tree mengalami penurunan karena kedalaman pohon mempengaruhi hasil testing. Ketika hasil testing sudah didapatkan hasil yang terbaik tetapi hasil terbaik tersebut belum mencapai maksimal depth maka pada model tuning akan mengambil hasil akhir pada maksimal depth sehingga akurasi dapat berubah atau menurun\n",
        "*   Model Random Forest menghasilkan akurasi score training sebesar 100% dan akurasi score testing sebesar 86.89%\n",
        "\n",
        "*   Hasil yang didapat pada model tuning hyperparameter model random forest pada akurasi score training sebesar 91.74% dan akurasi score testing sebesar 86.89%\n",
        "*   Kesimpulan yang dapat diambil adalah proses model tuning hyperparameter tidak menjadikan model lebih baik pada model klasifikasi dalam bentuk voting sepertt decision tree dan random forest karena model tersebut bergantung pada kedalaman pohon dan jumlah pohon untuk melakukan klasifikasi\n",
        "\n",
        "\n",
        "\n",
        "\n",
        "\n"
      ]
    }
  ]
}